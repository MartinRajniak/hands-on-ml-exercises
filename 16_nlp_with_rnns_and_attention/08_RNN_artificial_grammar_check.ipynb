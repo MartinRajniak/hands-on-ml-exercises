{
 "cells": [
  {
   "cell_type": "markdown",
   "metadata": {},
   "source": [
    "# 8. Artificial (Reber) Grammar validator using RNNs\n",
    "\n",
    "_Exercise:_ Embedded Reber grammars _were used by Hochreiter and Schmidhuber in [their paper](https://homl.info/93) about LSTMs. They are artificial grammars that produce strings such as \"BPBTSXXVPSEPE.\" Check out Jenny Orr's [nice introduction](https://homl.info/108) to this topic. Choose a particular embedded Reber grammar (such as the one represented on Jenny Orr's page), then train an RNN to identify whether a string respects that grammar or not. You will first need to write a function capable of generating a training batch containing about 50% strings that respect the grammar, and 50% that don't._"
   ]
  },
  {
   "attachments": {
    "image.png": {
     "image/png": "[encoded data removed]"
    }
   },
   "cell_type": "markdown",
   "metadata": {},
   "source": [
    "![image.png](attachment:image.png)"
   ]
  },
  {
   "cell_type": "markdown",
   "metadata": {},
   "source": [
    "## Prepare environment"
   ]
  },
  {
   "cell_type": "code",
   "execution_count": 1,
   "metadata": {},
   "outputs": [],
   "source": [
    "import random\n",
    "import unittest"
   ]
  },
  {
   "cell_type": "markdown",
   "metadata": {},
   "source": [
    "## Prepare dataset"
   ]
  },
  {
   "cell_type": "markdown",
   "metadata": {},
   "source": [
    "### Create function to generate Reber grammar text"
   ]
  },
  {
   "cell_type": "code",
   "execution_count": 2,
   "metadata": {},
   "outputs": [],
   "source": [
    "class ReberGrammarV1:\n",
    "    grammar_rules = {\n",
    "        \"BT\" : [\"S\", \"X\"],\n",
    "        \"TS\" : [\"S\", \"X\"],\n",
    "        \"TX\" : [\"X\", \"S\"],\n",
    "        \"SS\" : [\"S\", \"X\"],\n",
    "        \"SX\" : [\"X\", \"S\"],\n",
    "        \"XX\" : [\"T\", \"V\"],\n",
    "        \"XT\" : [\"T\", \"V\"],\n",
    "        \"XV\" : [\"P\", \"V\"],\n",
    "        \"XS\" : [\"E\"],\n",
    "        \"BP\" : [\"T\", \"V\"],\n",
    "        \"PT\" : [\"T\", \"V\"],\n",
    "        \"TT\" : [\"T\", \"V\"],\n",
    "        \"PV\" : [\"P\", \"V\"],\n",
    "        \"TV\" : [\"P\", \"V\"],\n",
    "        \"VV\" : [\"E\"],\n",
    "        \"VP\" : [\"X\", \"S\"],\n",
    "        \"PS\" : [\"E\"],\n",
    "        \"PX\" : [\"T\", \"V\"]\n",
    "    }\n",
    "\n",
    "    def create_new_text(self):\n",
    "        # First char\n",
    "        result = \"B\"\n",
    "\n",
    "        # Second char\n",
    "        result += random.choice([\"T\", \"P\"])\n",
    "\n",
    "        while True:\n",
    "            last_two_chars = result[-2:]\n",
    "            next_options = self.grammar_rules.get(last_two_chars)\n",
    "            if (next_options == None):\n",
    "                raise Exception(f\"Invalid sequence {last_two_chars}\")\n",
    "            next_char = random.choice(next_options)\n",
    "            result += next_char\n",
    "            if (next_char == \"E\"):\n",
    "                break\n",
    "        \n",
    "        return result\n",
    "    \n",
    "    def verify(self, text):\n",
    "        if len(text) < 5:\n",
    "            raise Exception(f\"{text} isn't at least 5 chars long\")\n",
    "        if text[0] != \"B\":\n",
    "            raise Exception(f\"{text} doesn't start with B\")\n",
    "        if text[1] != \"T\" and text[1] != \"P\":\n",
    "            raise Exception(f\"{text} doesn't have T or P as it's second char\")\n",
    "        if text[-1] != \"E\":\n",
    "            raise Exception(f\"{text} doesn't end with E\")\n",
    "        for index in range(2, len(text)):\n",
    "            char = text[index]\n",
    "            two_chars_before = text[index-2:index]\n",
    "            if (char not in self.grammar_rules.get(two_chars_before)):\n",
    "                raise Exception(f\"{text} is invalid: {char} cannot follow {two_chars_before}\")\n"
   ]
  },
  {
   "cell_type": "code",
   "execution_count": 10,
   "metadata": {},
   "outputs": [],
   "source": [
    "class ReberGrammarV2:\n",
    "    grammar_rules = {\n",
    "        0 : [(1, \"B\")],\n",
    "        1 : [(2, \"T\"), (3, \"P\")],\n",
    "        2 : [(2, \"S\"), (4, \"X\")],\n",
    "        3 : [(3, \"T\"), (5, \"V\")],\n",
    "        4 : [(3, \"X\"), (6, \"S\")],\n",
    "        5 : [(4, \"P\"), (6, \"V\")],\n",
    "        6 : [(7, \"E\")]\n",
    "    }\n",
    "\n",
    "    def create_new_text(self):\n",
    "        result = \"\"\n",
    "        state = 0\n",
    "        while True:\n",
    "            next_options = self.grammar_rules.get(state)\n",
    "            if (next_options == None):\n",
    "                raise Exception(f\"Invalid state {state}\")\n",
    "            next_state, next_char = random.choice(next_options)\n",
    "\n",
    "            result += next_char\n",
    "\n",
    "            state = next_state\n",
    "            if (state == 7):\n",
    "                break\n",
    "        return result\n",
    "    \n",
    "    def verify(self, text):\n",
    "        state = 0\n",
    "        for index in range(0, len(text)):\n",
    "            char = text[index]\n",
    "            valid = False\n",
    "            for next_state, next_char in self.grammar_rules.get(state):\n",
    "                if (char == next_char):\n",
    "                    state = next_state\n",
    "                    valid = True\n",
    "            if not valid:\n",
    "                raise Exception(f\"{text} is not valid: {char} is not a valid option for state {state}\")"
   ]
  },
  {
   "cell_type": "code",
   "execution_count": 3,
   "metadata": {},
   "outputs": [],
   "source": [
    "class TestReberGrammar():\n",
    "\n",
    "    def test_fail_1(self):\n",
    "        self.assertRaises(Exception, self.grammar.verify, \"BTSSPXSE\")\n",
    "    \n",
    "    def test_fail_2(self):\n",
    "        self.assertRaises(Exception, self.grammar.verify, \"BPTVVB\")\n",
    "    \n",
    "    def test_fail_3(self):\n",
    "        self.assertRaises(Exception, self.grammar.verify, \"BTXXVVSE\")\n",
    "\n",
    "    def test_fail_4(self):\n",
    "        self.assertRaises(Exception, self.grammar.verify, \"BPVSPSE\")\n",
    "\n",
    "    def test_fail_5(self):\n",
    "        self.assertRaises(Exception, self.grammar.verify, \"BTSSSE\")\n",
    "\n",
    "    def test_success_1(self):\n",
    "        self.grammar.verify(\"BTSSXXTVVE\")\n",
    "\n",
    "    def test_success_2(self):\n",
    "        self.grammar.verify(\"BPVVE\")\n",
    "\n",
    "    def test_success_3(self):\n",
    "        self.grammar.verify(\"BTXXVPSE\")\n",
    "\n",
    "    def test_success_4(self):\n",
    "        self.grammar.verify(\"BPVPXVPXVPXVVE\")\n",
    "\n",
    "    def test_success_5(self):\n",
    "        self.grammar.verify(\"BTSXXVPSE\")"
   ]
  },
  {
   "cell_type": "code",
   "execution_count": 4,
   "metadata": {},
   "outputs": [],
   "source": [
    "class TestReberGrammarV1(unittest.TestCase, TestReberGrammar):\n",
    "    def setUp(self):\n",
    "        self.grammar = ReberGrammarV1()"
   ]
  },
  {
   "cell_type": "code",
   "execution_count": 12,
   "metadata": {},
   "outputs": [],
   "source": [
    "class TestReberGrammarV2(unittest.TestCase, TestReberGrammar):\n",
    "    def setUp(self):\n",
    "        self.grammar = ReberGrammarV2()"
   ]
  },
  {
   "cell_type": "code",
   "execution_count": null,
   "metadata": {},
   "outputs": [
    {
     "name": "stdout",
     "output_type": "stream",
     "text": [
      "BTXSE\n"
     ]
    }
   ],
   "source": [
    "grammar = ReberGrammarV1()\n",
    "new_text = grammar.create_new_text()\n",
    "grammar.verify(new_text)\n",
    "print(new_text)"
   ]
  },
  {
   "cell_type": "code",
   "execution_count": 11,
   "metadata": {},
   "outputs": [
    {
     "name": "stdout",
     "output_type": "stream",
     "text": [
      "BPVVE\n"
     ]
    }
   ],
   "source": [
    "grammar = ReberGrammarV2()\n",
    "new_text = grammar.create_new_text()\n",
    "grammar.verify(new_text)\n",
    "print(new_text)"
   ]
  },
  {
   "cell_type": "code",
   "execution_count": 13,
   "metadata": {},
   "outputs": [
    {
     "name": "stderr",
     "output_type": "stream",
     "text": [
      "test_fail_1 (__main__.TestReberGrammarV1.test_fail_1) ... ok\n",
      "test_fail_2 (__main__.TestReberGrammarV1.test_fail_2) ... ok\n",
      "test_fail_3 (__main__.TestReberGrammarV1.test_fail_3) ... ok\n",
      "test_fail_4 (__main__.TestReberGrammarV1.test_fail_4) ... ok\n",
      "test_fail_5 (__main__.TestReberGrammarV1.test_fail_5) ... ok\n",
      "test_success_1 (__main__.TestReberGrammarV1.test_success_1) ... ok\n",
      "test_success_2 (__main__.TestReberGrammarV1.test_success_2) ... ok\n",
      "test_success_3 (__main__.TestReberGrammarV1.test_success_3) ... ok\n",
      "test_success_4 (__main__.TestReberGrammarV1.test_success_4) ... ok\n",
      "test_success_5 (__main__.TestReberGrammarV1.test_success_5) ... ok\n",
      "test_fail_1 (__main__.TestReberGrammarV2.test_fail_1) ... ok\n",
      "test_fail_2 (__main__.TestReberGrammarV2.test_fail_2) ... ok\n",
      "test_fail_3 (__main__.TestReberGrammarV2.test_fail_3) ... ok\n",
      "test_fail_4 (__main__.TestReberGrammarV2.test_fail_4) ... ok\n",
      "test_fail_5 (__main__.TestReberGrammarV2.test_fail_5) ... ok\n",
      "test_success_1 (__main__.TestReberGrammarV2.test_success_1) ... ok\n",
      "test_success_2 (__main__.TestReberGrammarV2.test_success_2) ... ok\n",
      "test_success_3 (__main__.TestReberGrammarV2.test_success_3) ... ok\n",
      "test_success_4 (__main__.TestReberGrammarV2.test_success_4) ... ok\n",
      "test_success_5 (__main__.TestReberGrammarV2.test_success_5) ... ok\n",
      "\n",
      "----------------------------------------------------------------------\n",
      "Ran 20 tests in 0.030s\n",
      "\n",
      "OK\n"
     ]
    },
    {
     "data": {
      "text/plain": [
       "<unittest.main.TestProgram at 0x7f248c7bc140>"
      ]
     },
     "execution_count": 13,
     "metadata": {},
     "output_type": "execute_result"
    }
   ],
   "source": [
    "unittest.main(argv=[''], verbosity=2, exit=False)"
   ]
  },
  {
   "cell_type": "code",
   "execution_count": 22,
   "metadata": {},
   "outputs": [],
   "source": [
    "def generate_incorrect_sample(max_length):\n",
    "    incorrect_text = \"\".join(random.choices(\"PTS\", k=random.randint(1, max_length)))\n",
    "    return incorrect_text"
   ]
  },
  {
   "cell_type": "code",
   "execution_count": 23,
   "metadata": {},
   "outputs": [
    {
     "data": {
      "text/plain": [
       "'PSSPTPPTPTPSTTPPTP'"
      ]
     },
     "execution_count": 23,
     "metadata": {},
     "output_type": "execute_result"
    }
   ],
   "source": [
    "generate_incorrect_sample(20)"
   ]
  },
  {
   "cell_type": "markdown",
   "metadata": {},
   "source": [
    "### Generate dataset\n",
    "50% valid and 50% invalid"
   ]
  },
  {
   "cell_type": "code",
   "execution_count": 15,
   "metadata": {},
   "outputs": [],
   "source": [
    "num_of_samples = 100\n",
    "max_length = 20"
   ]
  },
  {
   "cell_type": "code",
   "execution_count": null,
   "metadata": {},
   "outputs": [],
   "source": [
    "reber_grammar = ReberGrammarV2()\n",
    "correct_samples = [reber_grammar.create_new_text() for _ in range(num_of_samples // 2)]\n",
    "incorrect_samples = "
   ]
  },
  {
   "cell_type": "code",
   "execution_count": null,
   "metadata": {},
   "outputs": [],
   "source": []
  }
 ],
 "metadata": {
  "kernelspec": {
   "display_name": "base",
   "language": "python",
   "name": "python3"
  },
  "language_info": {
   "codemirror_mode": {
    "name": "ipython",
    "version": 3
   },
   "file_extension": ".py",
   "mimetype": "text/x-python",
   "name": "python",
   "nbconvert_exporter": "python",
   "pygments_lexer": "ipython3",
   "version": "3.12.2"
  }
 },
 "nbformat": 4,
 "nbformat_minor": 2
}
