{
 "cells": [
  {
   "cell_type": "markdown",
   "metadata": {},
   "source": [
    "# 8. Artificial (Reber) Grammar validator using RNNs\n",
    "\n",
    "_Exercise:_ Embedded Reber grammars _were used by Hochreiter and Schmidhuber in [their paper](https://homl.info/93) about LSTMs. They are artificial grammars that produce strings such as \"BPBTSXXVPSEPE.\" Check out Jenny Orr's [nice introduction](https://homl.info/108) to this topic. Choose a particular embedded Reber grammar (such as the one represented on Jenny Orr's page), then train an RNN to identify whether a string respects that grammar or not. You will first need to write a function capable of generating a training batch containing about 50% strings that respect the grammar, and 50% that don't._"
   ]
  },
  {
   "attachments": {
    "image.png": {
     "image/png": "[encoded data removed]"
    }
   },
   "cell_type": "markdown",
   "metadata": {},
   "source": [
    "![image.png](attachment:image.png)"
   ]
  },
  {
   "cell_type": "markdown",
   "metadata": {},
   "source": [
    "## Prepare environment"
   ]
  },
  {
   "cell_type": "code",
   "execution_count": null,
   "metadata": {},
   "outputs": [],
   "source": [
    "import random\n",
    "\n",
    "import unittest\n",
    "\n",
    "from sklearn.model_selection import train_test_split\n",
    "\n",
    "import tensorflow as tf\n",
    "\n",
    "import keras\n",
    "\n",
    "import matplotlib.pyplot as plt\n",
    "\n"
   ]
  },
  {
   "cell_type": "markdown",
   "metadata": {},
   "source": [
    "## Prepare dataset"
   ]
  },
  {
   "cell_type": "markdown",
   "metadata": {},
   "source": [
    "### Create function to generate Reber grammar text"
   ]
  },
  {
   "cell_type": "code",
   "execution_count": 2,
   "metadata": {},
   "outputs": [],
   "source": [
    "class ReberGrammarV1:\n",
    "    grammar_rules = {\n",
    "        \"BT\" : [\"S\", \"X\"],\n",
    "        \"TS\" : [\"S\", \"X\"],\n",
    "        \"TX\" : [\"X\", \"S\"],\n",
    "        \"SS\" : [\"S\", \"X\"],\n",
    "        \"SX\" : [\"X\", \"S\"],\n",
    "        \"XX\" : [\"T\", \"V\"],\n",
    "        \"XT\" : [\"T\", \"V\"],\n",
    "        \"XV\" : [\"P\", \"V\"],\n",
    "        \"XS\" : [\"E\"],\n",
    "        \"BP\" : [\"T\", \"V\"],\n",
    "        \"PT\" : [\"T\", \"V\"],\n",
    "        \"TT\" : [\"T\", \"V\"],\n",
    "        \"PV\" : [\"P\", \"V\"],\n",
    "        \"TV\" : [\"P\", \"V\"],\n",
    "        \"VV\" : [\"E\"],\n",
    "        \"VP\" : [\"X\", \"S\"],\n",
    "        \"PS\" : [\"E\"],\n",
    "        \"PX\" : [\"T\", \"V\"]\n",
    "    }\n",
    "\n",
    "    def create_new_text(self):\n",
    "        # First char\n",
    "        result = \"B\"\n",
    "\n",
    "        # Second char\n",
    "        result += random.choice([\"T\", \"P\"])\n",
    "\n",
    "        while True:\n",
    "            last_two_chars = result[-2:]\n",
    "            next_options = self.grammar_rules.get(last_two_chars)\n",
    "            if (next_options == None):\n",
    "                raise Exception(f\"Invalid sequence {last_two_chars}\")\n",
    "            next_char = random.choice(next_options)\n",
    "            result += next_char\n",
    "            if (next_char == \"E\"):\n",
    "                break\n",
    "        \n",
    "        return result\n",
    "    \n",
    "    def verify(self, text):\n",
    "        if len(text) < 5:\n",
    "            raise Exception(f\"{text} isn't at least 5 chars long\")\n",
    "        if text[0] != \"B\":\n",
    "            raise Exception(f\"{text} doesn't start with B\")\n",
    "        if text[1] != \"T\" and text[1] != \"P\":\n",
    "            raise Exception(f\"{text} doesn't have T or P as it's second char\")\n",
    "        if text[-1] != \"E\":\n",
    "            raise Exception(f\"{text} doesn't end with E\")\n",
    "        for index in range(2, len(text)):\n",
    "            char = text[index]\n",
    "            two_chars_before = text[index-2:index]\n",
    "            if (char not in self.grammar_rules.get(two_chars_before)):\n",
    "                raise Exception(f\"{text} is invalid: {char} cannot follow {two_chars_before}\")\n"
   ]
  },
  {
   "cell_type": "code",
   "execution_count": 3,
   "metadata": {},
   "outputs": [],
   "source": [
    "class ReberGrammarV2:\n",
    "    grammar_rules = {\n",
    "        0 : [(1, \"B\")],\n",
    "        1 : [(2, \"T\"), (3, \"P\")],\n",
    "        2 : [(2, \"S\"), (4, \"X\")],\n",
    "        3 : [(3, \"T\"), (5, \"V\")],\n",
    "        4 : [(3, \"X\"), (6, \"S\")],\n",
    "        5 : [(4, \"P\"), (6, \"V\")],\n",
    "        6 : [(7, \"E\")]\n",
    "    }\n",
    "\n",
    "    def create_new_text(self):\n",
    "        result = \"\"\n",
    "        state = 0\n",
    "        while True:\n",
    "            next_options = self.grammar_rules.get(state)\n",
    "            if (next_options == None):\n",
    "                raise Exception(f\"Invalid state {state}\")\n",
    "            next_state, next_char = random.choice(next_options)\n",
    "\n",
    "            result += next_char\n",
    "\n",
    "            state = next_state\n",
    "            if (state == 7):\n",
    "                break\n",
    "        return result\n",
    "    \n",
    "    def verify(self, text):\n",
    "        if len(text) < 5:\n",
    "            raise Exception(f\"{text} isn't at least 5 chars long\")\n",
    "\n",
    "        state = 0\n",
    "        for index in range(0, len(text)):\n",
    "            char = text[index]\n",
    "            valid = False\n",
    "            for next_state, next_char in self.grammar_rules.get(state):\n",
    "                if (char == next_char):\n",
    "                    state = next_state\n",
    "                    valid = True\n",
    "            if not valid:\n",
    "                raise Exception(f\"{text} is not valid: {char} is not a valid option for state {state}\")"
   ]
  },
  {
   "cell_type": "code",
   "execution_count": 4,
   "metadata": {},
   "outputs": [],
   "source": [
    "class TestReberGrammar():\n",
    "\n",
    "    def test_fail_1(self):\n",
    "        self.assertRaises(Exception, self.grammar.verify, \"BTSSPXSE\")\n",
    "    \n",
    "    def test_fail_2(self):\n",
    "        self.assertRaises(Exception, self.grammar.verify, \"BPTVVB\")\n",
    "    \n",
    "    def test_fail_3(self):\n",
    "        self.assertRaises(Exception, self.grammar.verify, \"BTXXVVSE\")\n",
    "\n",
    "    def test_fail_4(self):\n",
    "        self.assertRaises(Exception, self.grammar.verify, \"BPVSPSE\")\n",
    "\n",
    "    def test_fail_5(self):\n",
    "        self.assertRaises(Exception, self.grammar.verify, \"BTSSSE\")\n",
    "    \n",
    "    def test_fail_6(self):\n",
    "        self.assertRaises(Exception, self.grammar.verify, \"B\")\n",
    "\n",
    "    def test_success_1(self):\n",
    "        self.grammar.verify(\"BTSSXXTVVE\")\n",
    "\n",
    "    def test_success_2(self):\n",
    "        self.grammar.verify(\"BPVVE\")\n",
    "\n",
    "    def test_success_3(self):\n",
    "        self.grammar.verify(\"BTXXVPSE\")\n",
    "\n",
    "    def test_success_4(self):\n",
    "        self.grammar.verify(\"BPVPXVPXVPXVVE\")\n",
    "\n",
    "    def test_success_5(self):\n",
    "        self.grammar.verify(\"BTSXXVPSE\")"
   ]
  },
  {
   "cell_type": "code",
   "execution_count": 5,
   "metadata": {},
   "outputs": [],
   "source": [
    "class TestReberGrammarV1(unittest.TestCase, TestReberGrammar):\n",
    "    def setUp(self):\n",
    "        self.grammar = ReberGrammarV1()"
   ]
  },
  {
   "cell_type": "code",
   "execution_count": 6,
   "metadata": {},
   "outputs": [],
   "source": [
    "class TestReberGrammarV2(unittest.TestCase, TestReberGrammar):\n",
    "    def setUp(self):\n",
    "        self.grammar = ReberGrammarV2()"
   ]
  },
  {
   "cell_type": "code",
   "execution_count": 7,
   "metadata": {},
   "outputs": [
    {
     "name": "stdout",
     "output_type": "stream",
     "text": [
      "BTXSE\n"
     ]
    }
   ],
   "source": [
    "grammar = ReberGrammarV1()\n",
    "new_text = grammar.create_new_text()\n",
    "grammar.verify(new_text)\n",
    "print(new_text)"
   ]
  },
  {
   "cell_type": "code",
   "execution_count": 8,
   "metadata": {},
   "outputs": [
    {
     "name": "stdout",
     "output_type": "stream",
     "text": [
      "BTXSE\n"
     ]
    }
   ],
   "source": [
    "grammar = ReberGrammarV2()\n",
    "new_text = grammar.create_new_text()\n",
    "grammar.verify(new_text)\n",
    "print(new_text)"
   ]
  },
  {
   "cell_type": "code",
   "execution_count": 9,
   "metadata": {},
   "outputs": [
    {
     "name": "stderr",
     "output_type": "stream",
     "text": [
      "test_fail_1 (__main__.TestReberGrammarV1.test_fail_1) ... ok\n",
      "test_fail_2 (__main__.TestReberGrammarV1.test_fail_2) ... ok\n",
      "test_fail_3 (__main__.TestReberGrammarV1.test_fail_3) ... ok\n",
      "test_fail_4 (__main__.TestReberGrammarV1.test_fail_4) ... ok\n",
      "test_fail_5 (__main__.TestReberGrammarV1.test_fail_5) ... ok\n",
      "test_fail_6 (__main__.TestReberGrammarV1.test_fail_6) ... ok\n",
      "test_success_1 (__main__.TestReberGrammarV1.test_success_1) ... ok\n",
      "test_success_2 (__main__.TestReberGrammarV1.test_success_2) ... ok\n",
      "test_success_3 (__main__.TestReberGrammarV1.test_success_3) ... ok\n",
      "test_success_4 (__main__.TestReberGrammarV1.test_success_4) ... ok\n",
      "test_success_5 (__main__.TestReberGrammarV1.test_success_5) ... ok\n",
      "test_fail_1 (__main__.TestReberGrammarV2.test_fail_1) ... ok\n",
      "test_fail_2 (__main__.TestReberGrammarV2.test_fail_2) ... ok\n",
      "test_fail_3 (__main__.TestReberGrammarV2.test_fail_3) ... ok\n",
      "test_fail_4 (__main__.TestReberGrammarV2.test_fail_4) ... ok\n",
      "test_fail_5 (__main__.TestReberGrammarV2.test_fail_5) ... ok\n",
      "test_fail_6 (__main__.TestReberGrammarV2.test_fail_6) ... ok\n",
      "test_success_1 (__main__.TestReberGrammarV2.test_success_1) ... ok\n",
      "test_success_2 (__main__.TestReberGrammarV2.test_success_2) ... ok\n",
      "test_success_3 (__main__.TestReberGrammarV2.test_success_3) ... ok\n",
      "test_success_4 (__main__.TestReberGrammarV2.test_success_4) ... ok\n",
      "test_success_5 (__main__.TestReberGrammarV2.test_success_5) ... ok\n",
      "\n",
      "----------------------------------------------------------------------\n",
      "Ran 22 tests in 0.035s\n",
      "\n",
      "OK\n"
     ]
    },
    {
     "data": {
      "text/plain": [
       "<unittest.main.TestProgram at 0x7f556469bce0>"
      ]
     },
     "execution_count": 9,
     "metadata": {},
     "output_type": "execute_result"
    }
   ],
   "source": [
    "unittest.main(argv=[''], verbosity=2, exit=False)"
   ]
  },
  {
   "cell_type": "code",
   "execution_count": 10,
   "metadata": {},
   "outputs": [],
   "source": [
    "vocabulary = \"BTPSXVE\"\n",
    "\n",
    "def generate_incorrect_sample_old(reber_grammar, max_length):\n",
    "    while True:\n",
    "        incorrect_text = \"\".join(\n",
    "            random.choices(vocabulary, k=random.randint(1, max_length))\n",
    "        )\n",
    "        try:\n",
    "            reber_grammar.verify(incorrect_text)\n",
    "            continue\n",
    "        except Exception as e:\n",
    "            return incorrect_text"
   ]
  },
  {
   "cell_type": "code",
   "execution_count": 11,
   "metadata": {},
   "outputs": [],
   "source": [
    "# change only one char so that it is more difficult to differentiate between valid and invalid samples\n",
    "def generate_incorrect_sample(reber_grammar):\n",
    "    while True:\n",
    "        incorrect_text = reber_grammar.create_new_text()\n",
    "        index_to_change = random.randint(0, len(incorrect_text) - 1)\n",
    "        char_to_replace = random.choice(vocabulary)\n",
    "        incorrect_text = (\n",
    "            incorrect_text[:index_to_change] + char_to_replace + incorrect_text[index_to_change + 1:]\n",
    "        )\n",
    "        try:\n",
    "            reber_grammar.verify(incorrect_text)\n",
    "            continue\n",
    "        except Exception as e:\n",
    "            return incorrect_text"
   ]
  },
  {
   "cell_type": "code",
   "execution_count": 13,
   "metadata": {},
   "outputs": [
    {
     "data": {
      "text/plain": [
       "'BPTTSVE'"
      ]
     },
     "execution_count": 13,
     "metadata": {},
     "output_type": "execute_result"
    }
   ],
   "source": [
    "reber_grammar = ReberGrammarV1()\n",
    "generate_incorrect_sample(reber_grammar)"
   ]
  },
  {
   "cell_type": "markdown",
   "metadata": {},
   "source": [
    "### Generate dataset\n",
    "50% valid and 50% invalid"
   ]
  },
  {
   "cell_type": "code",
   "execution_count": 14,
   "metadata": {},
   "outputs": [],
   "source": [
    "num_of_samples = 1000"
   ]
  },
  {
   "cell_type": "code",
   "execution_count": 15,
   "metadata": {},
   "outputs": [],
   "source": [
    "reber_grammar = ReberGrammarV1()\n",
    "correct_samples = [reber_grammar.create_new_text() for _ in range(num_of_samples // 2)]\n",
    "incorrect_samples = [generate_incorrect_sample(reber_grammar) for _ in range(num_of_samples // 2)]"
   ]
  },
  {
   "cell_type": "code",
   "execution_count": 16,
   "metadata": {},
   "outputs": [],
   "source": [
    "correct_samples = [(sample, 1) for sample in correct_samples]\n",
    "incorrect_samples = [(sample, 0) for sample in incorrect_samples]"
   ]
  },
  {
   "cell_type": "code",
   "execution_count": 17,
   "metadata": {},
   "outputs": [],
   "source": [
    "all_samples = correct_samples + incorrect_samples"
   ]
  },
  {
   "cell_type": "code",
   "execution_count": 18,
   "metadata": {},
   "outputs": [],
   "source": [
    "train_samples, test_samples = train_test_split(all_samples, test_size=0.2, shuffle=True)\n",
    "valid_samples, test_samples = train_test_split(test_samples, test_size=0.5, shuffle=True)"
   ]
  },
  {
   "cell_type": "code",
   "execution_count": 19,
   "metadata": {},
   "outputs": [
    {
     "name": "stdout",
     "output_type": "stream",
     "text": [
      "800\n",
      "100\n",
      "100\n"
     ]
    }
   ],
   "source": [
    "print(len(train_samples))\n",
    "print(len(valid_samples))\n",
    "print(len(test_samples))"
   ]
  },
  {
   "cell_type": "code",
   "execution_count": 20,
   "metadata": {},
   "outputs": [
    {
     "data": {
      "text/plain": [
       "[('BTSSSSSXSE', 1),\n",
       " ('BPVPXTTTTTTTTTTVVE', 1),\n",
       " ('BTXSE', 1),\n",
       " ('BXTVPXTTTTTVVE', 0),\n",
       " ('BPTVVE', 1),\n",
       " ('BTXSE', 1),\n",
       " ('BPVVE', 1),\n",
       " ('VTSSXSE', 0),\n",
       " ('BBTTVVE', 0),\n",
       " ('BPTTVVSE', 0)]"
      ]
     },
     "execution_count": 20,
     "metadata": {},
     "output_type": "execute_result"
    }
   ],
   "source": [
    "train_samples[:10]"
   ]
  },
  {
   "cell_type": "code",
   "execution_count": 21,
   "metadata": {},
   "outputs": [
    {
     "name": "stderr",
     "output_type": "stream",
     "text": [
      "I0000 00:00:1742540785.447971    5978 gpu_device.cc:2022] Created device /job:localhost/replica:0/task:0/device:GPU:0 with 2874 MB memory:  -> device: 0, name: Quadro P600, pci bus id: 0000:01:00.0, compute capability: 6.1\n"
     ]
    }
   ],
   "source": [
    "batch_size = 1 #32\n",
    "\n",
    "train_ds = (\n",
    "    tf.data.Dataset.from_tensor_slices(\n",
    "        ([X for X, _ in train_samples], [y for _, y in train_samples])\n",
    "    )\n",
    "    .batch(batch_size)\n",
    "    .cache()\n",
    "    .prefetch(1)\n",
    ")\n",
    "valid_ds = (\n",
    "    tf.data.Dataset.from_tensor_slices(\n",
    "        ([X for X, _ in valid_samples], [y for _, y in valid_samples])\n",
    "    )\n",
    "    .batch(batch_size)\n",
    "    .cache()\n",
    "    .prefetch(1)\n",
    ")\n",
    "test_ds = (\n",
    "    tf.data.Dataset.from_tensor_slices(\n",
    "        ([X for X, _ in test_samples], [y for _, y in test_samples])\n",
    "    )\n",
    "    .batch(batch_size)\n",
    "    .cache()\n",
    "    .prefetch(1)\n",
    ")"
   ]
  },
  {
   "cell_type": "code",
   "execution_count": 22,
   "metadata": {},
   "outputs": [
    {
     "name": "stdout",
     "output_type": "stream",
     "text": [
      "tf.Tensor(b'BPVSE', shape=(), dtype=string)\n",
      "tf.Tensor(0, shape=(), dtype=int32)\n",
      "tf.Tensor(b'BPVPXVVE', shape=(), dtype=string)\n",
      "tf.Tensor(1, shape=(), dtype=int32)\n",
      "tf.Tensor(b'BPTTVVE', shape=(), dtype=string)\n",
      "tf.Tensor(1, shape=(), dtype=int32)\n",
      "tf.Tensor(b'BTXXTTVPXE', shape=(), dtype=string)\n",
      "tf.Tensor(0, shape=(), dtype=int32)\n",
      "tf.Tensor(b'BTSXXTVVE', shape=(), dtype=string)\n",
      "tf.Tensor(1, shape=(), dtype=int32)\n"
     ]
    },
    {
     "name": "stderr",
     "output_type": "stream",
     "text": [
      "2025-03-21 08:06:25.666640: W tensorflow/core/kernels/data/cache_dataset_ops.cc:914] The calling iterator did not fully read the dataset being cached. In order to avoid unexpected truncation of the dataset, the partially cached contents of the dataset  will be discarded. This can happen if you have an input pipeline similar to `dataset.cache().take(k).repeat()`. You should use `dataset.take(k).cache().repeat()` instead.\n",
      "2025-03-21 08:06:25.667953: I tensorflow/core/framework/local_rendezvous.cc:405] Local rendezvous is aborting with status: OUT_OF_RANGE: End of sequence\n"
     ]
    }
   ],
   "source": [
    "for text_batch, label_batch in test_ds.take(5):\n",
    "    for text, label in zip(text_batch, label_batch):\n",
    "        print(text)\n",
    "        print(label)"
   ]
  },
  {
   "cell_type": "markdown",
   "metadata": {},
   "source": [
    "## Train RNN to classify correct Reber grammar"
   ]
  },
  {
   "cell_type": "code",
   "execution_count": null,
   "metadata": {},
   "outputs": [
    {
     "name": "stderr",
     "output_type": "stream",
     "text": [
      "2025-03-21 08:43:50.815343: I tensorflow/core/framework/local_rendezvous.cc:405] Local rendezvous is aborting with status: OUT_OF_RANGE: End of sequence\n"
     ]
    }
   ],
   "source": [
    "max_features = len(vocabulary)\n",
    "\n",
    "vectorize_layer = keras.layers.TextVectorization(\n",
    "    split=\"character\", standardize=\"lower\"\n",
    ")\n",
    "\n",
    "text_ds = train_ds.map(lambda x, y: x)\n",
    "vectorize_layer.adapt(text_ds)"
   ]
  },
  {
   "cell_type": "code",
   "execution_count": 66,
   "metadata": {},
   "outputs": [
    {
     "data": {
      "text/plain": [
       "9"
      ]
     },
     "execution_count": 66,
     "metadata": {},
     "output_type": "execute_result"
    }
   ],
   "source": [
    "n_tokens = vectorize_layer.vocabulary_size() # - 2 (only when we remove PAD and UNKN chars)\n",
    "n_tokens"
   ]
  },
  {
   "cell_type": "code",
   "execution_count": 61,
   "metadata": {},
   "outputs": [
    {
     "data": {
      "text/plain": [
       "<tf.Tensor: shape=(2, 10), dtype=int64, numpy=\n",
       "array([[7, 2, 8, 8, 4, 4, 2, 3, 3, 6],\n",
       "       [7, 0, 0, 0, 0, 0, 0, 0, 0, 0]])>"
      ]
     },
     "execution_count": 61,
     "metadata": {},
     "output_type": "execute_result"
    }
   ],
   "source": [
    "vectorize_layer([\"BTSSXXTVVE\", \"B\"])"
   ]
  },
  {
   "cell_type": "markdown",
   "metadata": {},
   "source": [
    "### CharRNN architecture adapted for classification of Reber grammar."
   ]
  },
  {
   "cell_type": "code",
   "execution_count": null,
   "metadata": {},
   "outputs": [],
   "source": [
    "embedding_dim = 4\n",
    "\n",
    "inputs = keras.Input(shape=(1,), dtype=tf.string, name='text')\n",
    "x = vectorize_layer(inputs)\n",
    "x = keras.layers.Embedding(max_features + 1, embedding_dim, mask_zero=True)(x)\n",
    "x = keras.layers.GRU(128)(x)\n",
    "predictions = keras.layers.Dense(1, activation=\"sigmoid\")(x)\n",
    "\n",
    "model = keras.Model(inputs, predictions)\n",
    "\n",
    "model.compile(loss=\"binary_crossentropy\", optimizer=\"adam\", metrics=[\"accuracy\"])"
   ]
  },
  {
   "cell_type": "code",
   "execution_count": null,
   "metadata": {},
   "outputs": [
    {
     "name": "stdout",
     "output_type": "stream",
     "text": [
      "Epoch 1/100\n"
     ]
    },
    {
     "name": "stdout",
     "output_type": "stream",
     "text": [
      "\u001b[1m800/800\u001b[0m \u001b[32m━━━━━━━━━━━━━━━━━━━━\u001b[0m\u001b[37m\u001b[0m \u001b[1m15s\u001b[0m 17ms/step - accuracy: 0.4936 - loss: 0.6949 - val_accuracy: 0.6300 - val_loss: 0.6853\n",
      "Epoch 2/100\n",
      "\u001b[1m800/800\u001b[0m \u001b[32m━━━━━━━━━━━━━━━━━━━━\u001b[0m\u001b[37m\u001b[0m \u001b[1m14s\u001b[0m 17ms/step - accuracy: 0.5677 - loss: 0.6869 - val_accuracy: 0.6400 - val_loss: 0.6595\n",
      "Epoch 3/100\n",
      "\u001b[1m800/800\u001b[0m \u001b[32m━━━━━━━━━━━━━━━━━━━━\u001b[0m\u001b[37m\u001b[0m \u001b[1m16s\u001b[0m 20ms/step - accuracy: 0.6275 - loss: 0.6437 - val_accuracy: 0.7100 - val_loss: 0.5399\n",
      "Epoch 4/100\n",
      "\u001b[1m800/800\u001b[0m \u001b[32m━━━━━━━━━━━━━━━━━━━━\u001b[0m\u001b[37m\u001b[0m \u001b[1m18s\u001b[0m 22ms/step - accuracy: 0.7197 - loss: 0.5479 - val_accuracy: 0.7200 - val_loss: 0.5236\n",
      "Epoch 5/100\n",
      "\u001b[1m800/800\u001b[0m \u001b[32m━━━━━━━━━━━━━━━━━━━━\u001b[0m\u001b[37m\u001b[0m \u001b[1m17s\u001b[0m 21ms/step - accuracy: 0.7372 - loss: 0.4969 - val_accuracy: 0.8400 - val_loss: 0.4322\n",
      "Epoch 6/100\n",
      "\u001b[1m800/800\u001b[0m \u001b[32m━━━━━━━━━━━━━━━━━━━━\u001b[0m\u001b[37m\u001b[0m \u001b[1m17s\u001b[0m 21ms/step - accuracy: 0.7803 - loss: 0.4490 - val_accuracy: 0.8700 - val_loss: 0.3512\n",
      "Epoch 7/100\n",
      "\u001b[1m800/800\u001b[0m \u001b[32m━━━━━━━━━━━━━━━━━━━━\u001b[0m\u001b[37m\u001b[0m \u001b[1m17s\u001b[0m 22ms/step - accuracy: 0.7974 - loss: 0.4474 - val_accuracy: 0.8400 - val_loss: 0.3919\n",
      "Epoch 8/100\n",
      "\u001b[1m800/800\u001b[0m \u001b[32m━━━━━━━━━━━━━━━━━━━━\u001b[0m\u001b[37m\u001b[0m \u001b[1m18s\u001b[0m 22ms/step - accuracy: 0.8374 - loss: 0.3940 - val_accuracy: 0.9100 - val_loss: 0.3100\n",
      "Epoch 9/100\n",
      "\u001b[1m800/800\u001b[0m \u001b[32m━━━━━━━━━━━━━━━━━━━━\u001b[0m\u001b[37m\u001b[0m \u001b[1m17s\u001b[0m 21ms/step - accuracy: 0.8658 - loss: 0.3289 - val_accuracy: 0.8700 - val_loss: 0.3143\n",
      "Epoch 10/100\n",
      "\u001b[1m800/800\u001b[0m \u001b[32m━━━━━━━━━━━━━━━━━━━━\u001b[0m\u001b[37m\u001b[0m \u001b[1m17s\u001b[0m 22ms/step - accuracy: 0.8616 - loss: 0.3096 - val_accuracy: 0.8900 - val_loss: 0.2925\n",
      "Epoch 11/100\n",
      "\u001b[1m800/800\u001b[0m \u001b[32m━━━━━━━━━━━━━━━━━━━━\u001b[0m\u001b[37m\u001b[0m \u001b[1m17s\u001b[0m 21ms/step - accuracy: 0.8613 - loss: 0.2920 - val_accuracy: 0.9200 - val_loss: 0.2247\n",
      "Epoch 12/100\n",
      "\u001b[1m800/800\u001b[0m \u001b[32m━━━━━━━━━━━━━━━━━━━━\u001b[0m\u001b[37m\u001b[0m \u001b[1m15s\u001b[0m 19ms/step - accuracy: 0.9184 - loss: 0.2185 - val_accuracy: 0.9400 - val_loss: 0.2023\n",
      "Epoch 13/100\n",
      "\u001b[1m800/800\u001b[0m \u001b[32m━━━━━━━━━━━━━━━━━━━━\u001b[0m\u001b[37m\u001b[0m \u001b[1m17s\u001b[0m 22ms/step - accuracy: 0.9465 - loss: 0.1553 - val_accuracy: 0.8600 - val_loss: 0.2758\n",
      "Epoch 14/100\n",
      "\u001b[1m800/800\u001b[0m \u001b[32m━━━━━━━━━━━━━━━━━━━━\u001b[0m\u001b[37m\u001b[0m \u001b[1m19s\u001b[0m 23ms/step - accuracy: 0.9628 - loss: 0.1405 - val_accuracy: 0.9700 - val_loss: 0.1071\n",
      "Epoch 15/100\n",
      "\u001b[1m800/800\u001b[0m \u001b[32m━━━━━━━━━━━━━━━━━━━━\u001b[0m\u001b[37m\u001b[0m \u001b[1m17s\u001b[0m 21ms/step - accuracy: 0.9663 - loss: 0.1049 - val_accuracy: 0.9600 - val_loss: 0.0997\n",
      "Epoch 16/100\n",
      "\u001b[1m800/800\u001b[0m \u001b[32m━━━━━━━━━━━━━━━━━━━━\u001b[0m\u001b[37m\u001b[0m \u001b[1m17s\u001b[0m 21ms/step - accuracy: 0.9662 - loss: 0.0998 - val_accuracy: 0.9400 - val_loss: 0.1911\n",
      "Epoch 17/100\n",
      "\u001b[1m800/800\u001b[0m \u001b[32m━━━━━━━━━━━━━━━━━━━━\u001b[0m\u001b[37m\u001b[0m \u001b[1m15s\u001b[0m 19ms/step - accuracy: 0.9798 - loss: 0.0831 - val_accuracy: 0.9800 - val_loss: 0.0466\n",
      "Epoch 18/100\n",
      "\u001b[1m800/800\u001b[0m \u001b[32m━━━━━━━━━━━━━━━━━━━━\u001b[0m\u001b[37m\u001b[0m \u001b[1m15s\u001b[0m 19ms/step - accuracy: 0.9635 - loss: 0.0950 - val_accuracy: 0.9800 - val_loss: 0.0852\n",
      "Epoch 19/100\n",
      "\u001b[1m800/800\u001b[0m \u001b[32m━━━━━━━━━━━━━━━━━━━━\u001b[0m\u001b[37m\u001b[0m \u001b[1m15s\u001b[0m 18ms/step - accuracy: 0.9735 - loss: 0.0857 - val_accuracy: 0.9600 - val_loss: 0.0843\n",
      "Epoch 20/100\n",
      "\u001b[1m800/800\u001b[0m \u001b[32m━━━━━━━━━━━━━━━━━━━━\u001b[0m\u001b[37m\u001b[0m \u001b[1m15s\u001b[0m 19ms/step - accuracy: 0.9785 - loss: 0.0675 - val_accuracy: 0.9900 - val_loss: 0.0505\n",
      "Epoch 21/100\n",
      "\u001b[1m800/800\u001b[0m \u001b[32m━━━━━━━━━━━━━━━━━━━━\u001b[0m\u001b[37m\u001b[0m \u001b[1m15s\u001b[0m 19ms/step - accuracy: 0.9820 - loss: 0.0582 - val_accuracy: 1.0000 - val_loss: 0.0120\n",
      "Epoch 22/100\n",
      "\u001b[1m800/800\u001b[0m \u001b[32m━━━━━━━━━━━━━━━━━━━━\u001b[0m\u001b[37m\u001b[0m \u001b[1m15s\u001b[0m 19ms/step - accuracy: 0.9585 - loss: 0.1288 - val_accuracy: 1.0000 - val_loss: 0.0357\n",
      "Epoch 23/100\n",
      "\u001b[1m800/800\u001b[0m \u001b[32m━━━━━━━━━━━━━━━━━━━━\u001b[0m\u001b[37m\u001b[0m \u001b[1m15s\u001b[0m 19ms/step - accuracy: 0.9873 - loss: 0.0625 - val_accuracy: 1.0000 - val_loss: 0.0354\n",
      "Epoch 24/100\n",
      "\u001b[1m800/800\u001b[0m \u001b[32m━━━━━━━━━━━━━━━━━━━━\u001b[0m\u001b[37m\u001b[0m \u001b[1m15s\u001b[0m 19ms/step - accuracy: 0.9773 - loss: 0.0631 - val_accuracy: 1.0000 - val_loss: 0.0192\n",
      "Epoch 25/100\n",
      "\u001b[1m800/800\u001b[0m \u001b[32m━━━━━━━━━━━━━━━━━━━━\u001b[0m\u001b[37m\u001b[0m \u001b[1m15s\u001b[0m 19ms/step - accuracy: 0.9764 - loss: 0.0723 - val_accuracy: 0.9900 - val_loss: 0.0289\n",
      "Epoch 26/100\n",
      "\u001b[1m800/800\u001b[0m \u001b[32m━━━━━━━━━━━━━━━━━━━━\u001b[0m\u001b[37m\u001b[0m \u001b[1m15s\u001b[0m 19ms/step - accuracy: 0.9897 - loss: 0.0346 - val_accuracy: 1.0000 - val_loss: 0.0161\n",
      "Epoch 27/100\n",
      "\u001b[1m800/800\u001b[0m \u001b[32m━━━━━━━━━━━━━━━━━━━━\u001b[0m\u001b[37m\u001b[0m \u001b[1m17s\u001b[0m 22ms/step - accuracy: 0.9933 - loss: 0.0239 - val_accuracy: 1.0000 - val_loss: 0.0060\n",
      "Epoch 28/100\n",
      "\u001b[1m800/800\u001b[0m \u001b[32m━━━━━━━━━━━━━━━━━━━━\u001b[0m\u001b[37m\u001b[0m \u001b[1m15s\u001b[0m 19ms/step - accuracy: 1.0000 - loss: 0.0038 - val_accuracy: 1.0000 - val_loss: 0.0063\n",
      "Epoch 29/100\n",
      "\u001b[1m800/800\u001b[0m \u001b[32m━━━━━━━━━━━━━━━━━━━━\u001b[0m\u001b[37m\u001b[0m \u001b[1m14s\u001b[0m 17ms/step - accuracy: 1.0000 - loss: 0.0022 - val_accuracy: 1.0000 - val_loss: 0.0052\n",
      "Epoch 30/100\n",
      "\u001b[1m800/800\u001b[0m \u001b[32m━━━━━━━━━━━━━━━━━━━━\u001b[0m\u001b[37m\u001b[0m \u001b[1m14s\u001b[0m 17ms/step - accuracy: 1.0000 - loss: 0.0013 - val_accuracy: 1.0000 - val_loss: 0.0041\n",
      "Epoch 31/100\n",
      "\u001b[1m800/800\u001b[0m \u001b[32m━━━━━━━━━━━━━━━━━━━━\u001b[0m\u001b[37m\u001b[0m \u001b[1m14s\u001b[0m 17ms/step - accuracy: 1.0000 - loss: 6.6783e-04 - val_accuracy: 1.0000 - val_loss: 0.0035\n",
      "Epoch 32/100\n",
      "\u001b[1m800/800\u001b[0m \u001b[32m━━━━━━━━━━━━━━━━━━━━\u001b[0m\u001b[37m\u001b[0m \u001b[1m15s\u001b[0m 18ms/step - accuracy: 1.0000 - loss: 4.2478e-04 - val_accuracy: 1.0000 - val_loss: 0.0034\n",
      "Epoch 33/100\n",
      "\u001b[1m800/800\u001b[0m \u001b[32m━━━━━━━━━━━━━━━━━━━━\u001b[0m\u001b[37m\u001b[0m \u001b[1m16s\u001b[0m 20ms/step - accuracy: 1.0000 - loss: 2.7496e-04 - val_accuracy: 1.0000 - val_loss: 0.0035\n",
      "Epoch 34/100\n",
      "\u001b[1m800/800\u001b[0m \u001b[32m━━━━━━━━━━━━━━━━━━━━\u001b[0m\u001b[37m\u001b[0m \u001b[1m15s\u001b[0m 19ms/step - accuracy: 1.0000 - loss: 1.7425e-04 - val_accuracy: 1.0000 - val_loss: 0.0038\n",
      "Epoch 35/100\n",
      "\u001b[1m800/800\u001b[0m \u001b[32m━━━━━━━━━━━━━━━━━━━━\u001b[0m\u001b[37m\u001b[0m \u001b[1m15s\u001b[0m 19ms/step - accuracy: 1.0000 - loss: 1.0999e-04 - val_accuracy: 1.0000 - val_loss: 0.0044\n",
      "Epoch 36/100\n",
      "\u001b[1m800/800\u001b[0m \u001b[32m━━━━━━━━━━━━━━━━━━━━\u001b[0m\u001b[37m\u001b[0m \u001b[1m15s\u001b[0m 18ms/step - accuracy: 1.0000 - loss: 6.9500e-05 - val_accuracy: 1.0000 - val_loss: 0.0052\n",
      "Epoch 37/100\n",
      "\u001b[1m800/800\u001b[0m \u001b[32m━━━━━━━━━━━━━━━━━━━━\u001b[0m\u001b[37m\u001b[0m \u001b[1m15s\u001b[0m 19ms/step - accuracy: 1.0000 - loss: 4.3734e-05 - val_accuracy: 1.0000 - val_loss: 0.0063\n",
      "Epoch 38/100\n",
      "\u001b[1m800/800\u001b[0m \u001b[32m━━━━━━━━━━━━━━━━━━━━\u001b[0m\u001b[37m\u001b[0m \u001b[1m15s\u001b[0m 18ms/step - accuracy: 1.0000 - loss: 2.7336e-05 - val_accuracy: 0.9900 - val_loss: 0.0077\n",
      "Epoch 39/100\n",
      "\u001b[1m800/800\u001b[0m \u001b[32m━━━━━━━━━━━━━━━━━━━━\u001b[0m\u001b[37m\u001b[0m \u001b[1m15s\u001b[0m 19ms/step - accuracy: 1.0000 - loss: 1.6944e-05 - val_accuracy: 0.9900 - val_loss: 0.0095\n",
      "Epoch 40/100\n",
      "\u001b[1m800/800\u001b[0m \u001b[32m━━━━━━━━━━━━━━━━━━━━\u001b[0m\u001b[37m\u001b[0m \u001b[1m15s\u001b[0m 18ms/step - accuracy: 1.0000 - loss: 1.0548e-05 - val_accuracy: 0.9900 - val_loss: 0.0116\n",
      "Epoch 41/100\n",
      "\u001b[1m800/800\u001b[0m \u001b[32m━━━━━━━━━━━━━━━━━━━━\u001b[0m\u001b[37m\u001b[0m \u001b[1m16s\u001b[0m 20ms/step - accuracy: 1.0000 - loss: 6.6093e-06 - val_accuracy: 0.9900 - val_loss: 0.0139\n",
      "Epoch 42/100\n",
      "\u001b[1m800/800\u001b[0m \u001b[32m━━━━━━━━━━━━━━━━━━━━\u001b[0m\u001b[37m\u001b[0m \u001b[1m15s\u001b[0m 18ms/step - accuracy: 1.0000 - loss: 4.1449e-06 - val_accuracy: 0.9900 - val_loss: 0.0165\n"
     ]
    }
   ],
   "source": [
    "epochs = 100\n",
    "\n",
    "early_stopping_cb = keras.callbacks.EarlyStopping(\n",
    "    monitor=\"val_loss\", patience=10, restore_best_weights=True\n",
    ")\n",
    "\n",
    "history = model.fit(train_ds, validation_data=valid_ds, epochs=epochs, callbacks=[early_stopping_cb])"
   ]
  },
  {
   "cell_type": "markdown",
   "metadata": {},
   "source": [
    "### Evaluation"
   ]
  },
  {
   "cell_type": "code",
   "execution_count": 76,
   "metadata": {},
   "outputs": [
    {
     "name": "stdout",
     "output_type": "stream",
     "text": [
      "Best epoch is: 32\n"
     ]
    },
    {
     "data": {
      "image/png": "[encoded data removed]",
      "text/plain": [
       "<Figure size 1600x800 with 2 Axes>"
      ]
     },
     "metadata": {},
     "output_type": "display_data"
    },
    {
     "name": "stdout",
     "output_type": "stream",
     "text": [
      "\u001b[1m100/100\u001b[0m \u001b[32m━━━━━━━━━━━━━━━━━━━━\u001b[0m\u001b[37m\u001b[0m \u001b[1m3s\u001b[0m 11ms/step - accuracy: 0.9542 - loss: 0.1988\n",
      "\n",
      "Test Accuracy is 0.9599999785423279 with 0.21913328766822815 loss.\n"
     ]
    }
   ],
   "source": [
    "acc_history = history.history['accuracy']\n",
    "val_acc_history = history.history['val_accuracy']\n",
    "\n",
    "loss_history = history.history['loss']\n",
    "val_loss_history = history.history['val_loss']\n",
    "\n",
    "best_epoch = early_stopping_cb.best_epoch + 1\n",
    "print(f\"Best epoch is: {best_epoch}\")\n",
    "\n",
    "plt.figure(figsize=(16, 8))\n",
    "plt.subplot(2, 1, 1)\n",
    "plt.plot(acc_history, label='Training Accuracy')\n",
    "plt.plot(val_acc_history, label='Validation Accuracy')\n",
    "plt.legend(loc='lower right')\n",
    "plt.xticks(range(100))\n",
    "plt.ylabel('Accuracy')\n",
    "plt.ylim([min(plt.ylim()),1])\n",
    "plt.plot([best_epoch-1,best_epoch-1],\n",
    "        plt.ylim(), label='Best weights')\n",
    "plt.title('Training and Validation Accuracy')\n",
    "\n",
    "plt.subplot(2, 1, 2)\n",
    "plt.plot(loss_history, label='Training Loss')\n",
    "plt.plot(val_loss_history, label='Validation Loss')\n",
    "plt.legend(loc='upper right')\n",
    "plt.xticks(range(100))\n",
    "plt.ylabel('Loss')\n",
    "plt.ylim([0,1.5])\n",
    "plt.title('Training and Validation Loss')\n",
    "plt.xlabel('epoch')\n",
    "plt.plot([best_epoch-1,best_epoch-1],\n",
    "        plt.ylim(), label='Best weights')\n",
    "plt.show()\n",
    "\n",
    "test_loss, test_accuracy = model.evaluate(test_ds)\n",
    "print(f\"\\nTest Accuracy is {test_accuracy} with {test_loss} loss.\")"
   ]
  },
  {
   "cell_type": "code",
   "execution_count": 78,
   "metadata": {},
   "outputs": [],
   "source": [
    "class ReberGrammarRNN():\n",
    "    def verify(self, text):\n",
    "        result = model.predict(tf.constant([text]))[-1][-1]\n",
    "        if result < 0.5:\n",
    "            raise Exception(f\"{text} is not valid\") "
   ]
  },
  {
   "cell_type": "code",
   "execution_count": 79,
   "metadata": {},
   "outputs": [],
   "source": [
    "class TestReberGrammarRNN(unittest.TestCase, TestReberGrammar):\n",
    "    def setUp(self):\n",
    "        self.grammar = ReberGrammarRNN()"
   ]
  },
  {
   "cell_type": "code",
   "execution_count": 80,
   "metadata": {},
   "outputs": [
    {
     "name": "stderr",
     "output_type": "stream",
     "text": [
      "test_fail_1 (__main__.TestReberGrammarRNN.test_fail_1) ... "
     ]
    },
    {
     "name": "stdout",
     "output_type": "stream",
     "text": [
      "\u001b[1m1/1\u001b[0m \u001b[32m━━━━━━━━━━━━━━━━━━━━\u001b[0m\u001b[37m\u001b[0m \u001b[1m0s\u001b[0m 44ms/step\n"
     ]
    },
    {
     "name": "stderr",
     "output_type": "stream",
     "text": [
      "/home/martin/miniconda/lib/python3.12/site-packages/tensorflow/python/framework/ops.py:315: DeprecationWarning: Conversion of an array with ndim > 0 to a scalar is deprecated, and will error in future. Ensure you extract a single element from your array before performing this operation. (Deprecated NumPy 1.25.)\n",
      "  return float(self._numpy())\n",
      "ok\n",
      "test_fail_2 (__main__.TestReberGrammarRNN.test_fail_2) ... "
     ]
    },
    {
     "name": "stdout",
     "output_type": "stream",
     "text": [
      "\u001b[1m1/1\u001b[0m \u001b[32m━━━━━━━━━━━━━━━━━━━━\u001b[0m\u001b[37m\u001b[0m \u001b[1m0s\u001b[0m 38ms/step\n"
     ]
    },
    {
     "name": "stderr",
     "output_type": "stream",
     "text": [
      "ok\n",
      "test_fail_3 (__main__.TestReberGrammarRNN.test_fail_3) ... "
     ]
    },
    {
     "name": "stdout",
     "output_type": "stream",
     "text": [
      "\u001b[1m1/1\u001b[0m \u001b[32m━━━━━━━━━━━━━━━━━━━━\u001b[0m\u001b[37m\u001b[0m \u001b[1m0s\u001b[0m 39ms/step\n"
     ]
    },
    {
     "name": "stderr",
     "output_type": "stream",
     "text": [
      "ok\n",
      "test_fail_4 (__main__.TestReberGrammarRNN.test_fail_4) ... "
     ]
    },
    {
     "name": "stdout",
     "output_type": "stream",
     "text": [
      "\u001b[1m1/1\u001b[0m \u001b[32m━━━━━━━━━━━━━━━━━━━━\u001b[0m\u001b[37m\u001b[0m \u001b[1m0s\u001b[0m 38ms/step\n"
     ]
    },
    {
     "name": "stderr",
     "output_type": "stream",
     "text": [
      "ok\n",
      "test_fail_5 (__main__.TestReberGrammarRNN.test_fail_5) ... "
     ]
    },
    {
     "name": "stdout",
     "output_type": "stream",
     "text": [
      "\u001b[1m1/1\u001b[0m \u001b[32m━━━━━━━━━━━━━━━━━━━━\u001b[0m\u001b[37m\u001b[0m \u001b[1m0s\u001b[0m 41ms/step\n"
     ]
    },
    {
     "name": "stderr",
     "output_type": "stream",
     "text": [
      "ok\n",
      "test_fail_6 (__main__.TestReberGrammarRNN.test_fail_6) ... "
     ]
    },
    {
     "name": "stdout",
     "output_type": "stream",
     "text": [
      "\u001b[1m1/1\u001b[0m \u001b[32m━━━━━━━━━━━━━━━━━━━━\u001b[0m\u001b[37m\u001b[0m \u001b[1m0s\u001b[0m 38ms/step\n"
     ]
    },
    {
     "name": "stderr",
     "output_type": "stream",
     "text": [
      "ok\n",
      "test_success_1 (__main__.TestReberGrammarRNN.test_success_1) ... "
     ]
    },
    {
     "name": "stdout",
     "output_type": "stream",
     "text": [
      "\u001b[1m1/1\u001b[0m \u001b[32m━━━━━━━━━━━━━━━━━━━━\u001b[0m\u001b[37m\u001b[0m \u001b[1m0s\u001b[0m 38ms/step\n"
     ]
    },
    {
     "name": "stderr",
     "output_type": "stream",
     "text": [
      "ok\n",
      "test_success_2 (__main__.TestReberGrammarRNN.test_success_2) ... "
     ]
    },
    {
     "name": "stdout",
     "output_type": "stream",
     "text": [
      "\u001b[1m1/1\u001b[0m \u001b[32m━━━━━━━━━━━━━━━━━━━━\u001b[0m\u001b[37m\u001b[0m \u001b[1m0s\u001b[0m 39ms/step\n"
     ]
    },
    {
     "name": "stderr",
     "output_type": "stream",
     "text": [
      "ok\n",
      "test_success_3 (__main__.TestReberGrammarRNN.test_success_3) ... "
     ]
    },
    {
     "name": "stdout",
     "output_type": "stream",
     "text": [
      "\u001b[1m1/1\u001b[0m \u001b[32m━━━━━━━━━━━━━━━━━━━━\u001b[0m\u001b[37m\u001b[0m \u001b[1m0s\u001b[0m 37ms/step\n"
     ]
    },
    {
     "name": "stderr",
     "output_type": "stream",
     "text": [
      "ok\n",
      "test_success_4 (__main__.TestReberGrammarRNN.test_success_4) ... "
     ]
    },
    {
     "name": "stdout",
     "output_type": "stream",
     "text": [
      "\u001b[1m1/1\u001b[0m \u001b[32m━━━━━━━━━━━━━━━━━━━━\u001b[0m\u001b[37m\u001b[0m \u001b[1m0s\u001b[0m 41ms/step\n"
     ]
    },
    {
     "name": "stderr",
     "output_type": "stream",
     "text": [
      "ok\n",
      "test_success_5 (__main__.TestReberGrammarRNN.test_success_5) ... "
     ]
    },
    {
     "name": "stdout",
     "output_type": "stream",
     "text": [
      "\u001b[1m1/1\u001b[0m \u001b[32m━━━━━━━━━━━━━━━━━━━━\u001b[0m\u001b[37m\u001b[0m \u001b[1m0s\u001b[0m 38ms/step\n"
     ]
    },
    {
     "name": "stderr",
     "output_type": "stream",
     "text": [
      "ok\n",
      "test_fail_1 (__main__.TestReberGrammarV1.test_fail_1) ... ok\n",
      "test_fail_2 (__main__.TestReberGrammarV1.test_fail_2) ... ok\n",
      "test_fail_3 (__main__.TestReberGrammarV1.test_fail_3) ... ok\n",
      "test_fail_4 (__main__.TestReberGrammarV1.test_fail_4) ... ok\n",
      "test_fail_5 (__main__.TestReberGrammarV1.test_fail_5) ... ok\n",
      "test_fail_6 (__main__.TestReberGrammarV1.test_fail_6) ... ok\n",
      "test_success_1 (__main__.TestReberGrammarV1.test_success_1) ... ok\n",
      "test_success_2 (__main__.TestReberGrammarV1.test_success_2) ... ok\n",
      "test_success_3 (__main__.TestReberGrammarV1.test_success_3) ... ok\n",
      "test_success_4 (__main__.TestReberGrammarV1.test_success_4) ... ok\n",
      "test_success_5 (__main__.TestReberGrammarV1.test_success_5) ... ok\n",
      "test_fail_1 (__main__.TestReberGrammarV2.test_fail_1) ... ok\n",
      "test_fail_2 (__main__.TestReberGrammarV2.test_fail_2) ... ok\n",
      "test_fail_3 (__main__.TestReberGrammarV2.test_fail_3) ... ok\n",
      "test_fail_4 (__main__.TestReberGrammarV2.test_fail_4) ... ok\n",
      "test_fail_5 (__main__.TestReberGrammarV2.test_fail_5) ... ok\n",
      "test_fail_6 (__main__.TestReberGrammarV2.test_fail_6) ... ok\n",
      "test_success_1 (__main__.TestReberGrammarV2.test_success_1) ... ok\n",
      "test_success_2 (__main__.TestReberGrammarV2.test_success_2) ... ok\n",
      "test_success_3 (__main__.TestReberGrammarV2.test_success_3) ... ok\n",
      "test_success_4 (__main__.TestReberGrammarV2.test_success_4) ... ok\n",
      "test_success_5 (__main__.TestReberGrammarV2.test_success_5) ... ok\n",
      "\n",
      "----------------------------------------------------------------------\n",
      "Ran 33 tests in 0.955s\n",
      "\n",
      "OK\n"
     ]
    },
    {
     "data": {
      "text/plain": [
       "<unittest.main.TestProgram at 0x7f537167cad0>"
      ]
     },
     "execution_count": 80,
     "metadata": {},
     "output_type": "execute_result"
    }
   ],
   "source": [
    "unittest.main(argv=[''], verbosity=2, exit=False)"
   ]
  },
  {
   "cell_type": "markdown",
   "metadata": {},
   "source": [
    "> **IMPORTANT!** Batch size for RNNs define length of sequence.\n",
    "\n",
    "That means that if I teach model to expect certain sequences (in our case sequence of words in Reber grammar) it will expect certain words and size of sequence (batch). In this case if I provide less words in sequence (even if the same start of the sequence) it will provide different results (probabilities).\n",
    "\n",
    "We either need to work with batch size of 1 or use sequence of characters from single word as a batch (in which case it would probably be good idea to use padding to achieve the same sequence length - but also make sure model ignores padding and doesn't expect it during evaluation)."
   ]
  },
  {
   "cell_type": "markdown",
   "metadata": {},
   "source": [
    "> **IMPORTANT!** Initial invalid samples were too different from valid and model couldn't classify correctly simple transgressions\n",
    "\n",
    "Now we generate valid word and change just one character which is way better training and test set.\n",
    "\n",
    "However, model is unable to learn and probabilities stay around 0.5.\n"
   ]
  },
  {
   "cell_type": "markdown",
   "metadata": {},
   "source": [
    "TODO: try character based sequences "
   ]
  }
 ],
 "metadata": {
  "kernelspec": {
   "display_name": "base",
   "language": "python",
   "name": "python3"
  },
  "language_info": {
   "codemirror_mode": {
    "name": "ipython",
    "version": 3
   },
   "file_extension": ".py",
   "mimetype": "text/x-python",
   "name": "python",
   "nbconvert_exporter": "python",
   "pygments_lexer": "ipython3",
   "version": "3.12.2"
  }
 },
 "nbformat": 4,
 "nbformat_minor": 2
}
