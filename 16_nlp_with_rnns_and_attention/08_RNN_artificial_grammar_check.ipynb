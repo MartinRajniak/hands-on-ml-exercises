{
 "cells": [
  {
   "cell_type": "markdown",
   "metadata": {},
   "source": [
    "# 8. Artificial (Reber) Grammar validator using RNNs\n",
    "\n",
    "_Exercise:_ Embedded Reber grammars _were used by Hochreiter and Schmidhuber in [their paper](https://homl.info/93) about LSTMs. They are artificial grammars that produce strings such as \"BPBTSXXVPSEPE.\" Check out Jenny Orr's [nice introduction](https://homl.info/108) to this topic. Choose a particular embedded Reber grammar (such as the one represented on Jenny Orr's page), then train an RNN to identify whether a string respects that grammar or not. You will first need to write a function capable of generating a training batch containing about 50% strings that respect the grammar, and 50% that don't._"
   ]
  },
  {
   "attachments": {
    "image.png": {
     "image/png": "[encoded data removed]"
    }
   },
   "cell_type": "markdown",
   "metadata": {},
   "source": [
    "![image.png](attachment:image.png)"
   ]
  },
  {
   "cell_type": "markdown",
   "metadata": {},
   "source": [
    "## Prepare environment"
   ]
  },
  {
   "cell_type": "code",
   "execution_count": 49,
   "metadata": {},
   "outputs": [],
   "source": [
    "import random\n",
    "\n",
    "import unittest\n",
    "\n",
    "from sklearn.model_selection import train_test_split\n",
    "\n",
    "import tensorflow as tf\n",
    "\n",
    "import keras\n",
    "\n",
    "import matplotlib.pyplot as plt"
   ]
  },
  {
   "cell_type": "markdown",
   "metadata": {},
   "source": [
    "## Prepare dataset"
   ]
  },
  {
   "cell_type": "markdown",
   "metadata": {},
   "source": [
    "### Create function to generate Reber grammar text"
   ]
  },
  {
   "cell_type": "code",
   "execution_count": 2,
   "metadata": {},
   "outputs": [],
   "source": [
    "class ReberGrammarV1:\n",
    "    grammar_rules = {\n",
    "        \"BT\" : [\"S\", \"X\"],\n",
    "        \"TS\" : [\"S\", \"X\"],\n",
    "        \"TX\" : [\"X\", \"S\"],\n",
    "        \"SS\" : [\"S\", \"X\"],\n",
    "        \"SX\" : [\"X\", \"S\"],\n",
    "        \"XX\" : [\"T\", \"V\"],\n",
    "        \"XT\" : [\"T\", \"V\"],\n",
    "        \"XV\" : [\"P\", \"V\"],\n",
    "        \"XS\" : [\"E\"],\n",
    "        \"BP\" : [\"T\", \"V\"],\n",
    "        \"PT\" : [\"T\", \"V\"],\n",
    "        \"TT\" : [\"T\", \"V\"],\n",
    "        \"PV\" : [\"P\", \"V\"],\n",
    "        \"TV\" : [\"P\", \"V\"],\n",
    "        \"VV\" : [\"E\"],\n",
    "        \"VP\" : [\"X\", \"S\"],\n",
    "        \"PS\" : [\"E\"],\n",
    "        \"PX\" : [\"T\", \"V\"]\n",
    "    }\n",
    "\n",
    "    def create_new_text(self):\n",
    "        # First char\n",
    "        result = \"B\"\n",
    "\n",
    "        # Second char\n",
    "        result += random.choice([\"T\", \"P\"])\n",
    "\n",
    "        while True:\n",
    "            last_two_chars = result[-2:]\n",
    "            next_options = self.grammar_rules.get(last_two_chars)\n",
    "            if (next_options == None):\n",
    "                raise Exception(f\"Invalid sequence {last_two_chars}\")\n",
    "            next_char = random.choice(next_options)\n",
    "            result += next_char\n",
    "            if (next_char == \"E\"):\n",
    "                break\n",
    "        \n",
    "        return result\n",
    "    \n",
    "    def verify(self, text):\n",
    "        if len(text) < 5:\n",
    "            raise Exception(f\"{text} isn't at least 5 chars long\")\n",
    "        if text[0] != \"B\":\n",
    "            raise Exception(f\"{text} doesn't start with B\")\n",
    "        if text[1] != \"T\" and text[1] != \"P\":\n",
    "            raise Exception(f\"{text} doesn't have T or P as it's second char\")\n",
    "        if text[-1] != \"E\":\n",
    "            raise Exception(f\"{text} doesn't end with E\")\n",
    "        for index in range(2, len(text)):\n",
    "            char = text[index]\n",
    "            two_chars_before = text[index-2:index]\n",
    "            if (char not in self.grammar_rules.get(two_chars_before)):\n",
    "                raise Exception(f\"{text} is invalid: {char} cannot follow {two_chars_before}\")\n"
   ]
  },
  {
   "cell_type": "code",
   "execution_count": 3,
   "metadata": {},
   "outputs": [],
   "source": [
    "class ReberGrammarV2:\n",
    "    grammar_rules = {\n",
    "        0 : [(1, \"B\")],\n",
    "        1 : [(2, \"T\"), (3, \"P\")],\n",
    "        2 : [(2, \"S\"), (4, \"X\")],\n",
    "        3 : [(3, \"T\"), (5, \"V\")],\n",
    "        4 : [(3, \"X\"), (6, \"S\")],\n",
    "        5 : [(4, \"P\"), (6, \"V\")],\n",
    "        6 : [(7, \"E\")]\n",
    "    }\n",
    "\n",
    "    def create_new_text(self):\n",
    "        result = \"\"\n",
    "        state = 0\n",
    "        while True:\n",
    "            next_options = self.grammar_rules.get(state)\n",
    "            if (next_options == None):\n",
    "                raise Exception(f\"Invalid state {state}\")\n",
    "            next_state, next_char = random.choice(next_options)\n",
    "\n",
    "            result += next_char\n",
    "\n",
    "            state = next_state\n",
    "            if (state == 7):\n",
    "                break\n",
    "        return result\n",
    "    \n",
    "    def verify(self, text):\n",
    "        if len(text) < 5:\n",
    "            raise Exception(f\"{text} isn't at least 5 chars long\")\n",
    "\n",
    "        state = 0\n",
    "        for index in range(0, len(text)):\n",
    "            char = text[index]\n",
    "            valid = False\n",
    "            for next_state, next_char in self.grammar_rules.get(state):\n",
    "                if (char == next_char):\n",
    "                    state = next_state\n",
    "                    valid = True\n",
    "            if not valid:\n",
    "                raise Exception(f\"{text} is not valid: {char} is not a valid option for state {state}\")"
   ]
  },
  {
   "cell_type": "code",
   "execution_count": 4,
   "metadata": {},
   "outputs": [],
   "source": [
    "class TestReberGrammar():\n",
    "\n",
    "    def test_fail_1(self):\n",
    "        self.assertRaises(Exception, self.grammar.verify, \"BTSSPXSE\")\n",
    "    \n",
    "    def test_fail_2(self):\n",
    "        self.assertRaises(Exception, self.grammar.verify, \"BPTVVB\")\n",
    "    \n",
    "    def test_fail_3(self):\n",
    "        self.assertRaises(Exception, self.grammar.verify, \"BTXXVVSE\")\n",
    "\n",
    "    def test_fail_4(self):\n",
    "        self.assertRaises(Exception, self.grammar.verify, \"BPVSPSE\")\n",
    "\n",
    "    def test_fail_5(self):\n",
    "        self.assertRaises(Exception, self.grammar.verify, \"BTSSSE\")\n",
    "    \n",
    "    def test_fail_6(self):\n",
    "        self.assertRaises(Exception, self.grammar.verify, \"B\")\n",
    "\n",
    "    def test_success_1(self):\n",
    "        self.grammar.verify(\"BTSSXXTVVE\")\n",
    "\n",
    "    def test_success_2(self):\n",
    "        self.grammar.verify(\"BPVVE\")\n",
    "\n",
    "    def test_success_3(self):\n",
    "        self.grammar.verify(\"BTXXVPSE\")\n",
    "\n",
    "    def test_success_4(self):\n",
    "        self.grammar.verify(\"BPVPXVPXVPXVVE\")\n",
    "\n",
    "    def test_success_5(self):\n",
    "        self.grammar.verify(\"BTSXXVPSE\")"
   ]
  },
  {
   "cell_type": "code",
   "execution_count": 5,
   "metadata": {},
   "outputs": [],
   "source": [
    "class TestReberGrammarV1(unittest.TestCase, TestReberGrammar):\n",
    "    def setUp(self):\n",
    "        self.grammar = ReberGrammarV1()"
   ]
  },
  {
   "cell_type": "code",
   "execution_count": 6,
   "metadata": {},
   "outputs": [],
   "source": [
    "class TestReberGrammarV2(unittest.TestCase, TestReberGrammar):\n",
    "    def setUp(self):\n",
    "        self.grammar = ReberGrammarV2()"
   ]
  },
  {
   "cell_type": "code",
   "execution_count": 7,
   "metadata": {},
   "outputs": [
    {
     "name": "stdout",
     "output_type": "stream",
     "text": [
      "BPVPSE\n"
     ]
    }
   ],
   "source": [
    "grammar = ReberGrammarV1()\n",
    "new_text = grammar.create_new_text()\n",
    "grammar.verify(new_text)\n",
    "print(new_text)"
   ]
  },
  {
   "cell_type": "code",
   "execution_count": 8,
   "metadata": {},
   "outputs": [
    {
     "name": "stdout",
     "output_type": "stream",
     "text": [
      "BPTTTVVE\n"
     ]
    }
   ],
   "source": [
    "grammar = ReberGrammarV2()\n",
    "new_text = grammar.create_new_text()\n",
    "grammar.verify(new_text)\n",
    "print(new_text)"
   ]
  },
  {
   "cell_type": "code",
   "execution_count": 9,
   "metadata": {},
   "outputs": [
    {
     "name": "stderr",
     "output_type": "stream",
     "text": [
      "test_fail_1 (__main__.TestReberGrammarV1.test_fail_1) ... ok\n",
      "test_fail_2 (__main__.TestReberGrammarV1.test_fail_2) ... ok\n",
      "test_fail_3 (__main__.TestReberGrammarV1.test_fail_3) ... ok\n",
      "test_fail_4 (__main__.TestReberGrammarV1.test_fail_4) ... ok\n",
      "test_fail_5 (__main__.TestReberGrammarV1.test_fail_5) ... ok\n",
      "test_fail_6 (__main__.TestReberGrammarV1.test_fail_6) ... ok\n",
      "test_success_1 (__main__.TestReberGrammarV1.test_success_1) ... ok\n",
      "test_success_2 (__main__.TestReberGrammarV1.test_success_2) ... ok\n",
      "test_success_3 (__main__.TestReberGrammarV1.test_success_3) ... ok\n",
      "test_success_4 (__main__.TestReberGrammarV1.test_success_4) ... ok\n",
      "test_success_5 (__main__.TestReberGrammarV1.test_success_5) ... ok\n",
      "test_fail_1 (__main__.TestReberGrammarV2.test_fail_1) ... ok\n",
      "test_fail_2 (__main__.TestReberGrammarV2.test_fail_2) ... ok\n",
      "test_fail_3 (__main__.TestReberGrammarV2.test_fail_3) ... ok\n",
      "test_fail_4 (__main__.TestReberGrammarV2.test_fail_4) ... ok\n",
      "test_fail_5 (__main__.TestReberGrammarV2.test_fail_5) ... ok\n",
      "test_fail_6 (__main__.TestReberGrammarV2.test_fail_6) ... ok\n",
      "test_success_1 (__main__.TestReberGrammarV2.test_success_1) ... ok\n",
      "test_success_2 (__main__.TestReberGrammarV2.test_success_2) ... ok\n",
      "test_success_3 (__main__.TestReberGrammarV2.test_success_3) ... ok\n",
      "test_success_4 (__main__.TestReberGrammarV2.test_success_4) ... ok\n",
      "test_success_5 (__main__.TestReberGrammarV2.test_success_5) ... ok\n",
      "\n",
      "----------------------------------------------------------------------\n",
      "Ran 22 tests in 0.040s\n",
      "\n",
      "OK\n"
     ]
    },
    {
     "data": {
      "text/plain": [
       "<unittest.main.TestProgram at 0x7fc5c7ca4140>"
      ]
     },
     "execution_count": 9,
     "metadata": {},
     "output_type": "execute_result"
    }
   ],
   "source": [
    "unittest.main(argv=[''], verbosity=2, exit=False)"
   ]
  },
  {
   "cell_type": "code",
   "execution_count": null,
   "metadata": {},
   "outputs": [],
   "source": [
    "vocabulary = \"BTPSXVE\"\n",
    "\n",
    "def generate_incorrect_sample_old(reber_grammar, max_length):\n",
    "    while True:\n",
    "        incorrect_text = \"\".join(\n",
    "            random.choices(vocabulary, k=random.randint(1, max_length))\n",
    "        )\n",
    "        try:\n",
    "            reber_grammar.verify(incorrect_text)\n",
    "            continue\n",
    "        except Exception as e:\n",
    "            return incorrect_text"
   ]
  },
  {
   "cell_type": "code",
   "execution_count": null,
   "metadata": {},
   "outputs": [],
   "source": [
    "# change only one char so that it is more difficult to differentiate between valid and invalid samples\n",
    "def generate_incorrect_sample(reber_grammar):\n",
    "    while True:\n",
    "        incorrect_text = reber_grammar.create_new_text()\n",
    "        index_to_change = random.randint(0, len(incorrect_text) - 1)\n",
    "        char_to_replace = random.choice(vocabulary)\n",
    "        incorrect_text = (\n",
    "            incorrect_text[:index_to_change] + char_to_replace + incorrect_text[index_to_change + 1:]\n",
    "        )\n",
    "        try:\n",
    "            reber_grammar.verify(incorrect_text)\n",
    "            continue\n",
    "        except Exception as e:\n",
    "            return incorrect_text"
   ]
  },
  {
   "cell_type": "code",
   "execution_count": 211,
   "metadata": {},
   "outputs": [
    {
     "data": {
      "text/plain": [
       "'BPTVPE'"
      ]
     },
     "execution_count": 211,
     "metadata": {},
     "output_type": "execute_result"
    }
   ],
   "source": [
    "reber_grammar = ReberGrammarV1()\n",
    "generate_incorrect_sample(reber_grammar, 20)"
   ]
  },
  {
   "cell_type": "markdown",
   "metadata": {},
   "source": [
    "### Generate dataset\n",
    "50% valid and 50% invalid"
   ]
  },
  {
   "cell_type": "code",
   "execution_count": null,
   "metadata": {},
   "outputs": [],
   "source": [
    "num_of_samples = 1000"
   ]
  },
  {
   "cell_type": "code",
   "execution_count": null,
   "metadata": {},
   "outputs": [],
   "source": [
    "reber_grammar = ReberGrammarV1()\n",
    "correct_samples = [reber_grammar.create_new_text() for _ in range(num_of_samples // 2)]\n",
    "incorrect_samples = [generate_incorrect_sample(reber_grammar) for _ in range(num_of_samples // 2)]"
   ]
  },
  {
   "cell_type": "code",
   "execution_count": 213,
   "metadata": {},
   "outputs": [],
   "source": [
    "correct_samples = [(sample, 1) for sample in correct_samples]\n",
    "incorrect_samples = [(sample, 0) for sample in incorrect_samples]"
   ]
  },
  {
   "cell_type": "code",
   "execution_count": 214,
   "metadata": {},
   "outputs": [],
   "source": [
    "all_samples = correct_samples + incorrect_samples"
   ]
  },
  {
   "cell_type": "code",
   "execution_count": 215,
   "metadata": {},
   "outputs": [],
   "source": [
    "train_samples, test_samples = train_test_split(all_samples, test_size=0.2, shuffle=True)\n",
    "valid_samples, test_samples = train_test_split(test_samples, test_size=0.5, shuffle=True)"
   ]
  },
  {
   "cell_type": "code",
   "execution_count": 216,
   "metadata": {},
   "outputs": [
    {
     "name": "stdout",
     "output_type": "stream",
     "text": [
      "800\n",
      "100\n",
      "100\n"
     ]
    }
   ],
   "source": [
    "print(len(train_samples))\n",
    "print(len(valid_samples))\n",
    "print(len(test_samples))"
   ]
  },
  {
   "cell_type": "code",
   "execution_count": 217,
   "metadata": {},
   "outputs": [
    {
     "data": {
      "text/plain": [
       "[('BTSXSE', 1),\n",
       " ('BPSSXXVPXVVE', 0),\n",
       " ('BTXXE', 0),\n",
       " ('BPVVE', 1),\n",
       " ('VTSSXXTTVVE', 0),\n",
       " ('BPVPTVVE', 0),\n",
       " ('BTSTSE', 0),\n",
       " ('BTXSE', 1),\n",
       " ('BTXSE', 1),\n",
       " ('BPTVPSE', 1)]"
      ]
     },
     "execution_count": 217,
     "metadata": {},
     "output_type": "execute_result"
    }
   ],
   "source": [
    "train_samples[:10]"
   ]
  },
  {
   "cell_type": "code",
   "execution_count": 218,
   "metadata": {},
   "outputs": [],
   "source": [
    "batch_size = 1 #32\n",
    "\n",
    "train_ds = (\n",
    "    tf.data.Dataset.from_tensor_slices(\n",
    "        ([X for X, _ in train_samples], [y for _, y in train_samples])\n",
    "    )\n",
    "    .batch(batch_size)\n",
    "    .cache()\n",
    "    .prefetch(1)\n",
    ")\n",
    "valid_ds = (\n",
    "    tf.data.Dataset.from_tensor_slices(\n",
    "        ([X for X, _ in valid_samples], [y for _, y in valid_samples])\n",
    "    )\n",
    "    .batch(batch_size)\n",
    "    .cache()\n",
    "    .prefetch(1)\n",
    ")\n",
    "test_ds = (\n",
    "    tf.data.Dataset.from_tensor_slices(\n",
    "        ([X for X, _ in test_samples], [y for _, y in test_samples])\n",
    "    )\n",
    "    .batch(batch_size)\n",
    "    .cache()\n",
    "    .prefetch(1)\n",
    ")"
   ]
  },
  {
   "cell_type": "code",
   "execution_count": 219,
   "metadata": {},
   "outputs": [
    {
     "name": "stdout",
     "output_type": "stream",
     "text": [
      "tf.Tensor(b'BTSSXXVPXTVVE', shape=(), dtype=string)\n",
      "tf.Tensor(1, shape=(), dtype=int32)\n",
      "tf.Tensor(b'BBVVE', shape=(), dtype=string)\n",
      "tf.Tensor(0, shape=(), dtype=int32)\n",
      "tf.Tensor(b'BPSPSE', shape=(), dtype=string)\n",
      "tf.Tensor(0, shape=(), dtype=int32)\n",
      "tf.Tensor(b'BTSSSVXSE', shape=(), dtype=string)\n",
      "tf.Tensor(0, shape=(), dtype=int32)\n",
      "tf.Tensor(b'BPTTTPXTVPXTVPSE', shape=(), dtype=string)\n",
      "tf.Tensor(0, shape=(), dtype=int32)\n"
     ]
    },
    {
     "name": "stderr",
     "output_type": "stream",
     "text": [
      "2025-03-20 23:58:23.123935: W tensorflow/core/kernels/data/cache_dataset_ops.cc:914] The calling iterator did not fully read the dataset being cached. In order to avoid unexpected truncation of the dataset, the partially cached contents of the dataset  will be discarded. This can happen if you have an input pipeline similar to `dataset.cache().take(k).repeat()`. You should use `dataset.take(k).cache().repeat()` instead.\n"
     ]
    }
   ],
   "source": [
    "for text_batch, label_batch in test_ds.take(5):\n",
    "    for text, label in zip(text_batch, label_batch):\n",
    "        print(text)\n",
    "        print(label)"
   ]
  },
  {
   "cell_type": "markdown",
   "metadata": {},
   "source": [
    "## Train RNN to classify correct Reber grammar"
   ]
  },
  {
   "cell_type": "code",
   "execution_count": 220,
   "metadata": {},
   "outputs": [],
   "source": [
    "max_features = len(vocabulary)\n",
    "\n",
    "vectorize_layer = keras.layers.TextVectorization(\n",
    "    split=\"character\", standardize=\"lower\"\n",
    ")\n",
    "\n",
    "text_ds = train_ds.map(lambda x, y: x)\n",
    "vectorize_layer.adapt(text_ds)"
   ]
  },
  {
   "cell_type": "code",
   "execution_count": 221,
   "metadata": {},
   "outputs": [
    {
     "data": {
      "text/plain": [
       "7"
      ]
     },
     "execution_count": 221,
     "metadata": {},
     "output_type": "execute_result"
    }
   ],
   "source": [
    "n_tokens = vectorize_layer.vocabulary_size() - 2  # number of distinct chars = 39\n",
    "n_tokens"
   ]
  },
  {
   "cell_type": "code",
   "execution_count": 222,
   "metadata": {},
   "outputs": [],
   "source": [
    "embedding_dim = 2\n",
    "\n",
    "# Used with batches\n",
    "inputs = keras.Input(shape=(1,), dtype=tf.string, name='text')\n",
    "\n",
    "x = vectorize_layer(inputs)\n",
    "x = keras.layers.Lambda(lambda X: X - 2)(x)  # no <PAD> or <UNK> tokens\n",
    "x = keras.layers.Embedding(max_features + 1, embedding_dim)(x)\n",
    "# x = keras.layers.Dropout(0.5)(x)\n",
    "\n",
    "# Text Classification from scratch (https://keras.io/examples/nlp/text_classification_from_scratch/)\n",
    "# x = keras.layers.Conv1D(128, 7, padding=\"valid\", activation=\"relu\", strides=3)(x)\n",
    "# x = keras.layers.Conv1D(128, 7, padding=\"valid\", activation=\"relu\", strides=3)(x)\n",
    "# x = keras.layers.GlobalMaxPooling1D()(x)\n",
    "\n",
    "# x = keras.layers.Dense(128, activation=\"relu\")(x)\n",
    "# x = keras.layers.Dropout(0.5)(x)\n",
    "\n",
    "# charRNN\n",
    "# x = keras.layers.GRU(128)(x)\n",
    "\n",
    "x = keras.layers.SimpleRNN(16)(x)\n",
    "\n",
    "predictions = keras.layers.Dense(1, activation=\"sigmoid\")(x)\n",
    "\n",
    "model = keras.Model(inputs, predictions)\n",
    "\n",
    "model.compile(loss=\"binary_crossentropy\", optimizer=\"adam\", metrics=[\"accuracy\"])"
   ]
  },
  {
   "cell_type": "code",
   "execution_count": 223,
   "metadata": {},
   "outputs": [
    {
     "name": "stdout",
     "output_type": "stream",
     "text": [
      "Epoch 1/5\n",
      "\u001b[1m800/800\u001b[0m \u001b[32m━━━━━━━━━━━━━━━━━━━━\u001b[0m\u001b[37m\u001b[0m \u001b[1m30s\u001b[0m 35ms/step - accuracy: 0.4663 - loss: 0.6972 - val_accuracy: 0.5100 - val_loss: 0.6967\n",
      "Epoch 2/5\n",
      "\u001b[1m800/800\u001b[0m \u001b[32m━━━━━━━━━━━━━━━━━━━━\u001b[0m\u001b[37m\u001b[0m \u001b[1m29s\u001b[0m 36ms/step - accuracy: 0.5345 - loss: 0.6891 - val_accuracy: 0.4900 - val_loss: 0.7038\n",
      "Epoch 3/5\n",
      "\u001b[1m800/800\u001b[0m \u001b[32m━━━━━━━━━━━━━━━━━━━━\u001b[0m\u001b[37m\u001b[0m \u001b[1m31s\u001b[0m 39ms/step - accuracy: 0.5428 - loss: 0.6883 - val_accuracy: 0.5500 - val_loss: 0.6985\n",
      "Epoch 4/5\n",
      "\u001b[1m800/800\u001b[0m \u001b[32m━━━━━━━━━━━━━━━━━━━━\u001b[0m\u001b[37m\u001b[0m \u001b[1m32s\u001b[0m 40ms/step - accuracy: 0.5706 - loss: 0.6901 - val_accuracy: 0.5300 - val_loss: 0.7088\n",
      "Epoch 5/5\n",
      "\u001b[1m800/800\u001b[0m \u001b[32m━━━━━━━━━━━━━━━━━━━━\u001b[0m\u001b[37m\u001b[0m \u001b[1m35s\u001b[0m 43ms/step - accuracy: 0.5867 - loss: 0.6754 - val_accuracy: 0.5500 - val_loss: 0.7027\n"
     ]
    }
   ],
   "source": [
    "epochs = 5 # 100\n",
    "\n",
    "early_stopping_cb = keras.callbacks.EarlyStopping(\n",
    "    monitor=\"val_loss\", patience=10, restore_best_weights=True\n",
    ")\n",
    "\n",
    "# Fit the model using the train and test datasets.\n",
    "history = model.fit(train_ds, validation_data=valid_ds, epochs=epochs, callbacks=[early_stopping_cb])"
   ]
  },
  {
   "cell_type": "code",
   "execution_count": 224,
   "metadata": {},
   "outputs": [
    {
     "name": "stdout",
     "output_type": "stream",
     "text": [
      "Best epoch is: 1\n"
     ]
    },
    {
     "data": {
      "image/png": "[encoded data removed]",
      "text/plain": [
       "<Figure size 1600x800 with 2 Axes>"
      ]
     },
     "metadata": {},
     "output_type": "display_data"
    },
    {
     "name": "stdout",
     "output_type": "stream",
     "text": [
      "\u001b[1m100/100\u001b[0m \u001b[32m━━━━━━━━━━━━━━━━━━━━\u001b[0m\u001b[37m\u001b[0m \u001b[1m2s\u001b[0m 18ms/step - accuracy: 0.4442 - loss: 0.7002\n",
      "\n",
      "Test Accuracy is 0.5299999713897705 with 0.6938872337341309 loss.\n"
     ]
    }
   ],
   "source": [
    "acc_history = history.history['accuracy']\n",
    "val_acc_history = history.history['val_accuracy']\n",
    "\n",
    "loss_history = history.history['loss']\n",
    "val_loss_history = history.history['val_loss']\n",
    "\n",
    "best_epoch = early_stopping_cb.best_epoch + 1\n",
    "print(f\"Best epoch is: {best_epoch}\")\n",
    "\n",
    "plt.figure(figsize=(16, 8))\n",
    "plt.subplot(2, 1, 1)\n",
    "plt.plot(acc_history, label='Training Accuracy')\n",
    "plt.plot(val_acc_history, label='Validation Accuracy')\n",
    "plt.legend(loc='lower right')\n",
    "plt.xticks(range(100))\n",
    "plt.ylabel('Accuracy')\n",
    "plt.ylim([min(plt.ylim()),1])\n",
    "plt.plot([best_epoch-1,best_epoch-1],\n",
    "        plt.ylim(), label='Best weights')\n",
    "plt.title('Training and Validation Accuracy')\n",
    "\n",
    "plt.subplot(2, 1, 2)\n",
    "plt.plot(loss_history, label='Training Loss')\n",
    "plt.plot(val_loss_history, label='Validation Loss')\n",
    "plt.legend(loc='upper right')\n",
    "plt.xticks(range(100))\n",
    "plt.ylabel('Loss')\n",
    "plt.ylim([0,1.5])\n",
    "plt.title('Training and Validation Loss')\n",
    "plt.xlabel('epoch')\n",
    "plt.plot([best_epoch-1,best_epoch-1],\n",
    "        plt.ylim(), label='Best weights')\n",
    "plt.show()\n",
    "\n",
    "test_loss, test_accuracy = model.evaluate(test_ds)\n",
    "print(f\"\\nTest Accuracy is {test_accuracy} with {test_loss} loss.\")"
   ]
  },
  {
   "cell_type": "code",
   "execution_count": 225,
   "metadata": {},
   "outputs": [
    {
     "name": "stdout",
     "output_type": "stream",
     "text": [
      "\u001b[1m6/6\u001b[0m \u001b[32m━━━━━━━━━━━━━━━━━━━━\u001b[0m\u001b[37m\u001b[0m \u001b[1m0s\u001b[0m 13ms/step\n",
      "[[0.5193949 ]\n",
      " [0.5206855 ]\n",
      " [0.5251604 ]\n",
      " [0.49096695]\n",
      " [0.5173092 ]\n",
      " [0.50398046]]\n"
     ]
    }
   ],
   "source": [
    "temp1 = tf.constant([\"BTSSXSE\"])\n",
    "temp2 = tf.data.Dataset.from_tensor_slices(\n",
    "    [\"BTSSXSE\", \"BPTVVE\", \"BPVVE\", \"XBPPEXVB\", \"BTXSE\"]\n",
    ").batch(1)\n",
    "\n",
    "# These were supposed to be all invalid, but were misclassified (it might be that the invalid training set was too different from valid\n",
    "# and model could not learn actual grammar - it was enough to learn simpler heuristics)\n",
    "temp3 = tf.data.Dataset.from_tensor_slices(\n",
    "    [\"BTSSPXSE\", \"BPTVVB\", \"BTXXVVSE\", \"BPVSPSE\", \"BTSSSE\", \"B\"]\n",
    ").batch(1)\n",
    "\n",
    "test_dataset_no_labels = test_ds.map(lambda X, y: X)\n",
    "\n",
    "result = model.predict(temp3)\n",
    "print(result)\n",
    "\n",
    "# TODO: why result is array of arrays?\n",
    "# TODO: why there are different results if I pass one vs. many text samples\n",
    "# TODO: can batch size affect how we can ask predictions? e.g. 32 batch size requires 32 batch size querries"
   ]
  },
  {
   "cell_type": "code",
   "execution_count": 226,
   "metadata": {},
   "outputs": [],
   "source": [
    "class ReberGrammarRNN():\n",
    "    def verify(self, text):\n",
    "        result = model.predict(tf.constant([text]))[-1][-1]\n",
    "        if result < 0.5:\n",
    "            raise Exception(f\"{text} is not valid\") "
   ]
  },
  {
   "cell_type": "code",
   "execution_count": 227,
   "metadata": {},
   "outputs": [],
   "source": [
    "class TestReberGrammarRNN(unittest.TestCase, TestReberGrammar):\n",
    "    def setUp(self):\n",
    "        self.grammar = ReberGrammarRNN()"
   ]
  },
  {
   "cell_type": "code",
   "execution_count": 228,
   "metadata": {},
   "outputs": [
    {
     "name": "stderr",
     "output_type": "stream",
     "text": [
      "test_fail_1 (__main__.TestReberGrammarRNN.test_fail_1) ... "
     ]
    },
    {
     "name": "stdout",
     "output_type": "stream",
     "text": [
      "\u001b[1m1/1\u001b[0m \u001b[32m━━━━━━━━━━━━━━━━━━━━\u001b[0m\u001b[37m\u001b[0m \u001b[1m0s\u001b[0m 44ms/step\n"
     ]
    },
    {
     "name": "stderr",
     "output_type": "stream",
     "text": [
      "/home/martin/miniconda/lib/python3.12/site-packages/tensorflow/python/framework/ops.py:315: DeprecationWarning: Conversion of an array with ndim > 0 to a scalar is deprecated, and will error in future. Ensure you extract a single element from your array before performing this operation. (Deprecated NumPy 1.25.)\n",
      "  return float(self._numpy())\n",
      "FAIL\n",
      "test_fail_2 (__main__.TestReberGrammarRNN.test_fail_2) ... "
     ]
    },
    {
     "name": "stdout",
     "output_type": "stream",
     "text": [
      "\u001b[1m1/1\u001b[0m \u001b[32m━━━━━━━━━━━━━━━━━━━━\u001b[0m\u001b[37m\u001b[0m \u001b[1m0s\u001b[0m 43ms/step\n"
     ]
    },
    {
     "name": "stderr",
     "output_type": "stream",
     "text": [
      "FAIL\n",
      "test_fail_3 (__main__.TestReberGrammarRNN.test_fail_3) ... "
     ]
    },
    {
     "name": "stdout",
     "output_type": "stream",
     "text": [
      "\u001b[1m1/1\u001b[0m \u001b[32m━━━━━━━━━━━━━━━━━━━━\u001b[0m\u001b[37m\u001b[0m \u001b[1m0s\u001b[0m 46ms/step\n"
     ]
    },
    {
     "name": "stderr",
     "output_type": "stream",
     "text": [
      "FAIL\n",
      "test_fail_4 (__main__.TestReberGrammarRNN.test_fail_4) ... "
     ]
    },
    {
     "name": "stdout",
     "output_type": "stream",
     "text": [
      "\u001b[1m1/1\u001b[0m \u001b[32m━━━━━━━━━━━━━━━━━━━━\u001b[0m\u001b[37m\u001b[0m \u001b[1m0s\u001b[0m 53ms/step\n"
     ]
    },
    {
     "name": "stderr",
     "output_type": "stream",
     "text": [
      "ok\n",
      "test_fail_5 (__main__.TestReberGrammarRNN.test_fail_5) ... "
     ]
    },
    {
     "name": "stdout",
     "output_type": "stream",
     "text": [
      "\u001b[1m1/1\u001b[0m \u001b[32m━━━━━━━━━━━━━━━━━━━━\u001b[0m\u001b[37m\u001b[0m \u001b[1m0s\u001b[0m 42ms/step\n"
     ]
    },
    {
     "name": "stderr",
     "output_type": "stream",
     "text": [
      "FAIL\n",
      "test_fail_6 (__main__.TestReberGrammarRNN.test_fail_6) ... "
     ]
    },
    {
     "name": "stdout",
     "output_type": "stream",
     "text": [
      "\u001b[1m1/1\u001b[0m \u001b[32m━━━━━━━━━━━━━━━━━━━━\u001b[0m\u001b[37m\u001b[0m \u001b[1m0s\u001b[0m 36ms/step\n"
     ]
    },
    {
     "name": "stderr",
     "output_type": "stream",
     "text": [
      "FAIL\n",
      "test_success_1 (__main__.TestReberGrammarRNN.test_success_1) ... "
     ]
    },
    {
     "name": "stdout",
     "output_type": "stream",
     "text": [
      "\u001b[1m1/1\u001b[0m \u001b[32m━━━━━━━━━━━━━━━━━━━━\u001b[0m\u001b[37m\u001b[0m \u001b[1m0s\u001b[0m 45ms/step\n"
     ]
    },
    {
     "name": "stderr",
     "output_type": "stream",
     "text": [
      "ok\n",
      "test_success_2 (__main__.TestReberGrammarRNN.test_success_2) ... "
     ]
    },
    {
     "name": "stdout",
     "output_type": "stream",
     "text": [
      "\u001b[1m1/1\u001b[0m \u001b[32m━━━━━━━━━━━━━━━━━━━━\u001b[0m\u001b[37m\u001b[0m \u001b[1m0s\u001b[0m 44ms/step\n"
     ]
    },
    {
     "name": "stderr",
     "output_type": "stream",
     "text": [
      "ok\n",
      "test_success_3 (__main__.TestReberGrammarRNN.test_success_3) ... "
     ]
    },
    {
     "name": "stdout",
     "output_type": "stream",
     "text": [
      "\u001b[1m1/1\u001b[0m \u001b[32m━━━━━━━━━━━━━━━━━━━━\u001b[0m\u001b[37m\u001b[0m \u001b[1m0s\u001b[0m 43ms/step\n"
     ]
    },
    {
     "name": "stderr",
     "output_type": "stream",
     "text": [
      "ok\n",
      "test_success_4 (__main__.TestReberGrammarRNN.test_success_4) ... "
     ]
    },
    {
     "name": "stdout",
     "output_type": "stream",
     "text": [
      "\u001b[1m1/1\u001b[0m \u001b[32m━━━━━━━━━━━━━━━━━━━━\u001b[0m\u001b[37m\u001b[0m \u001b[1m0s\u001b[0m 46ms/step\n"
     ]
    },
    {
     "name": "stderr",
     "output_type": "stream",
     "text": [
      "ok\n",
      "test_success_5 (__main__.TestReberGrammarRNN.test_success_5) ... "
     ]
    },
    {
     "name": "stdout",
     "output_type": "stream",
     "text": [
      "\u001b[1m1/1\u001b[0m \u001b[32m━━━━━━━━━━━━━━━━━━━━\u001b[0m\u001b[37m\u001b[0m \u001b[1m0s\u001b[0m 43ms/step\n"
     ]
    },
    {
     "name": "stderr",
     "output_type": "stream",
     "text": [
      "ok\n",
      "test_fail_1 (__main__.TestReberGrammarV1.test_fail_1) ... ok\n",
      "test_fail_2 (__main__.TestReberGrammarV1.test_fail_2) ... ok\n",
      "test_fail_3 (__main__.TestReberGrammarV1.test_fail_3) ... ok\n",
      "test_fail_4 (__main__.TestReberGrammarV1.test_fail_4) ... ok\n",
      "test_fail_5 (__main__.TestReberGrammarV1.test_fail_5) ... ok\n",
      "test_fail_6 (__main__.TestReberGrammarV1.test_fail_6) ... ok\n",
      "test_success_1 (__main__.TestReberGrammarV1.test_success_1) ... ok\n",
      "test_success_2 (__main__.TestReberGrammarV1.test_success_2) ... ok\n",
      "test_success_3 (__main__.TestReberGrammarV1.test_success_3) ... ok\n",
      "test_success_4 (__main__.TestReberGrammarV1.test_success_4) ... ok\n",
      "test_success_5 (__main__.TestReberGrammarV1.test_success_5) ... ok\n",
      "test_fail_1 (__main__.TestReberGrammarV2.test_fail_1) ... ok\n",
      "test_fail_2 (__main__.TestReberGrammarV2.test_fail_2) ... ok\n",
      "test_fail_3 (__main__.TestReberGrammarV2.test_fail_3) ... ok\n",
      "test_fail_4 (__main__.TestReberGrammarV2.test_fail_4) ... ok\n",
      "test_fail_5 (__main__.TestReberGrammarV2.test_fail_5) ... ok\n",
      "test_fail_6 (__main__.TestReberGrammarV2.test_fail_6) ... ok\n",
      "test_success_1 (__main__.TestReberGrammarV2.test_success_1) ... ok\n",
      "test_success_2 (__main__.TestReberGrammarV2.test_success_2) ... ok\n",
      "test_success_3 (__main__.TestReberGrammarV2.test_success_3) ... ok\n",
      "test_success_4 (__main__.TestReberGrammarV2.test_success_4) ... ok\n",
      "test_success_5 (__main__.TestReberGrammarV2.test_success_5) ... ok\n",
      "\n",
      "======================================================================\n",
      "FAIL: test_fail_1 (__main__.TestReberGrammarRNN.test_fail_1)\n",
      "----------------------------------------------------------------------\n",
      "Traceback (most recent call last):\n",
      "  File \"/tmp/ipykernel_75989/2877846156.py\", line 4, in test_fail_1\n",
      "    self.assertRaises(Exception, self.grammar.verify, \"BTSSPXSE\")\n",
      "AssertionError: Exception not raised by verify\n",
      "\n",
      "======================================================================\n",
      "FAIL: test_fail_2 (__main__.TestReberGrammarRNN.test_fail_2)\n",
      "----------------------------------------------------------------------\n",
      "Traceback (most recent call last):\n",
      "  File \"/tmp/ipykernel_75989/2877846156.py\", line 7, in test_fail_2\n",
      "    self.assertRaises(Exception, self.grammar.verify, \"BPTVVB\")\n",
      "AssertionError: Exception not raised by verify\n",
      "\n",
      "======================================================================\n",
      "FAIL: test_fail_3 (__main__.TestReberGrammarRNN.test_fail_3)\n",
      "----------------------------------------------------------------------\n",
      "Traceback (most recent call last):\n",
      "  File \"/tmp/ipykernel_75989/2877846156.py\", line 10, in test_fail_3\n",
      "    self.assertRaises(Exception, self.grammar.verify, \"BTXXVVSE\")\n",
      "AssertionError: Exception not raised by verify\n",
      "\n",
      "======================================================================\n",
      "FAIL: test_fail_5 (__main__.TestReberGrammarRNN.test_fail_5)\n",
      "----------------------------------------------------------------------\n",
      "Traceback (most recent call last):\n",
      "  File \"/tmp/ipykernel_75989/2877846156.py\", line 16, in test_fail_5\n",
      "    self.assertRaises(Exception, self.grammar.verify, \"BTSSSE\")\n",
      "AssertionError: Exception not raised by verify\n",
      "\n",
      "======================================================================\n",
      "FAIL: test_fail_6 (__main__.TestReberGrammarRNN.test_fail_6)\n",
      "----------------------------------------------------------------------\n",
      "Traceback (most recent call last):\n",
      "  File \"/tmp/ipykernel_75989/2877846156.py\", line 19, in test_fail_6\n",
      "    self.assertRaises(Exception, self.grammar.verify, \"B\")\n",
      "AssertionError: Exception not raised by verify\n",
      "\n",
      "----------------------------------------------------------------------\n",
      "Ran 33 tests in 1.005s\n",
      "\n",
      "FAILED (failures=5)\n"
     ]
    },
    {
     "data": {
      "text/plain": [
       "<unittest.main.TestProgram at 0x7fc48fcda0c0>"
      ]
     },
     "execution_count": 228,
     "metadata": {},
     "output_type": "execute_result"
    }
   ],
   "source": [
    "unittest.main(argv=[''], verbosity=2, exit=False)"
   ]
  },
  {
   "cell_type": "markdown",
   "metadata": {},
   "source": [
    "> **IMPORTANT!** Batch size for RNNs define length of sequence.\n",
    "\n",
    "That means that if I teach model to expect certain sequences (in our case sequence of words in Reber grammar) it will expect certain words and size of sequence (batch). In this case if I provide less words in sequence (even if the same start of the sequence) it will provide different results (probabilities).\n",
    "\n",
    "We either need to work with batch size of 1 or use sequence of characters from single word as a batch (in which case it would probably be good idea to use padding to achieve the same sequence length - but also make sure model ignores padding and doesn't expect it during evaluation)."
   ]
  },
  {
   "cell_type": "markdown",
   "metadata": {},
   "source": [
    "> **IMPORTANT!** Initial invalid samples were too different from valid and model couldn't classify correctly simple transgressions\n",
    "\n",
    "Now we generate valid word and change just one character which is way better training and test set.\n",
    "\n",
    "However, model is unable to learn and probabilities stay around 0.5.\n"
   ]
  },
  {
   "cell_type": "markdown",
   "metadata": {},
   "source": [
    "TODO: try character based sequences "
   ]
  }
 ],
 "metadata": {
  "kernelspec": {
   "display_name": "base",
   "language": "python",
   "name": "python3"
  },
  "language_info": {
   "codemirror_mode": {
    "name": "ipython",
    "version": 3
   },
   "file_extension": ".py",
   "mimetype": "text/x-python",
   "name": "python",
   "nbconvert_exporter": "python",
   "pygments_lexer": "ipython3",
   "version": "3.12.2"
  }
 },
 "nbformat": 4,
 "nbformat_minor": 2
}
