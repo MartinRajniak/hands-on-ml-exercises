{
 "cells": [
  {
   "cell_type": "markdown",
   "metadata": {},
   "source": [
    "# 9. Encoder-Decoder for converting dates\n",
    "\n",
    "_Exercise: Train an Encoder–Decoder model that can convert a date string from one format to another (e.g., from \"April 22, 2019\" to \"2019-04-22\")._"
   ]
  },
  {
   "cell_type": "markdown",
   "metadata": {},
   "source": [
    "## Set up environment"
   ]
  },
  {
   "cell_type": "code",
   "execution_count": 35,
   "metadata": {},
   "outputs": [],
   "source": [
    "import datetime\n",
    "\n",
    "import random\n",
    "\n",
    "from sklearn.model_selection import train_test_split\n",
    "\n",
    "import keras\n",
    "\n",
    "import keras_hub\n",
    "\n",
    "import tensorflow as tf\n",
    "\n",
    "import numpy as np"
   ]
  },
  {
   "cell_type": "markdown",
   "metadata": {},
   "source": [
    "## Prepare data"
   ]
  },
  {
   "cell_type": "code",
   "execution_count": 2,
   "metadata": {},
   "outputs": [],
   "source": [
    "SAMPLE_SIZE = 10000"
   ]
  },
  {
   "cell_type": "code",
   "execution_count": 3,
   "metadata": {},
   "outputs": [],
   "source": [
    "def generate_random_dates(start_year, end_year, count):\n",
    "    random_dates = []\n",
    "    for _ in range(count):\n",
    "        year = random.randint(start_year, end_year)\n",
    "        month = random.randint(1, 12)\n",
    "        day = random.randint(1, 28)  # To avoid invalid dates\n",
    "        random_date = datetime.date(year, month, day)\n",
    "        random_dates.append(random_date)\n",
    "    return random_dates"
   ]
  },
  {
   "cell_type": "code",
   "execution_count": 4,
   "metadata": {},
   "outputs": [],
   "source": [
    "dates = generate_random_dates(1900, 2023, SAMPLE_SIZE)\n",
    "X = [date.strftime(\"%B %d, %Y\") for date in dates]\n",
    "y = list(map(lambda date: date.isoformat(), dates))"
   ]
  },
  {
   "cell_type": "code",
   "execution_count": 5,
   "metadata": {},
   "outputs": [
    {
     "data": {
      "text/plain": [
       "['September 12, 1961',\n",
       " 'February 23, 1931',\n",
       " 'February 27, 1985',\n",
       " 'August 16, 2006',\n",
       " 'July 21, 1909']"
      ]
     },
     "execution_count": 5,
     "metadata": {},
     "output_type": "execute_result"
    }
   ],
   "source": [
    "X[:5]"
   ]
  },
  {
   "cell_type": "code",
   "execution_count": 6,
   "metadata": {},
   "outputs": [
    {
     "data": {
      "text/plain": [
       "['1961-09-12', '1931-02-23', '1985-02-27', '2006-08-16', '1909-07-21']"
      ]
     },
     "execution_count": 6,
     "metadata": {},
     "output_type": "execute_result"
    }
   ],
   "source": [
    "y[:5]"
   ]
  },
  {
   "cell_type": "code",
   "execution_count": 7,
   "metadata": {},
   "outputs": [
    {
     "name": "stdout",
     "output_type": "stream",
     "text": [
      "8000\n",
      "1000\n",
      "1000\n"
     ]
    }
   ],
   "source": [
    "X_train, X_test, y_train, y_test = train_test_split(X, y, test_size=0.2, shuffle=True)\n",
    "X_valid, X_test, y_valid, y_test = train_test_split(X_test, y_test, test_size=0.5)\n",
    "\n",
    "print(len(X_train))\n",
    "print(len(X_valid))\n",
    "print(len(X_test))"
   ]
  },
  {
   "cell_type": "markdown",
   "metadata": {},
   "source": [
    "## Train model"
   ]
  },
  {
   "cell_type": "code",
   "execution_count": 8,
   "metadata": {},
   "outputs": [],
   "source": [
    "START_OF_SEQ = \"<\"\n",
    "END_OF_SEQ = \">\"\n",
    "DELIMITER = \"-\""
   ]
  },
  {
   "cell_type": "code",
   "execution_count": 9,
   "metadata": {},
   "outputs": [],
   "source": [
    "DAYS_MONTHS = [f\"{day:02}\" for day in range(1, 32)]\n",
    "MONTHS = [\n",
    "    \"January\",\n",
    "    \"February\",\n",
    "    \"March\",\n",
    "    \"April\",\n",
    "    \"May\",\n",
    "    \"June\",\n",
    "    \"July\",\n",
    "    \"August\",\n",
    "    \"September\",\n",
    "    \"October\",\n",
    "    \"November\",\n",
    "    \"December\",\n",
    "]\n",
    "YEARS = [str(year) for year in range (1900, 2100)]"
   ]
  },
  {
   "cell_type": "code",
   "execution_count": 10,
   "metadata": {},
   "outputs": [],
   "source": [
    "@tf.function\n",
    "def split_dash(input_str):\n",
    "  return tf.strings.split(input_str, sep=\"-\")"
   ]
  },
  {
   "cell_type": "code",
   "execution_count": 11,
   "metadata": {},
   "outputs": [
    {
     "name": "stderr",
     "output_type": "stream",
     "text": [
      "I0000 00:00:1742805018.393690   43381 gpu_device.cc:2022] Created device /job:localhost/replica:0/task:0/device:GPU:0 with 2874 MB memory:  -> device: 0, name: Quadro P600, pci bus id: 0000:01:00.0, compute capability: 6.1\n"
     ]
    }
   ],
   "source": [
    "text_vec_layer_read = keras.layers.TextVectorization(standardize=\"strip_punctuation\",\n",
    "    vocabulary=DAYS_MONTHS + MONTHS + YEARS\n",
    ")\n",
    "\n",
    "text_vec_layer_iso = keras.layers.TextVectorization(standardize=None, split=split_dash,\n",
    "    vocabulary=DAYS_MONTHS + YEARS + [START_OF_SEQ, END_OF_SEQ, DELIMITER]\n",
    ")"
   ]
  },
  {
   "cell_type": "code",
   "execution_count": 12,
   "metadata": {},
   "outputs": [
    {
     "name": "stdout",
     "output_type": "stream",
     "text": [
      "Readable format vocabulary size is 245\n",
      "ISO format vocabulary size is 236\n"
     ]
    }
   ],
   "source": [
    "VOCAB_SIZE_READ = text_vec_layer_read.vocabulary_size()\n",
    "print(f\"Readable format vocabulary size is {VOCAB_SIZE_READ}\")\n",
    "\n",
    "VOCAB_SIZE_ISO = text_vec_layer_iso.vocabulary_size()\n",
    "print(f\"ISO format vocabulary size is {VOCAB_SIZE_ISO}\")"
   ]
  },
  {
   "cell_type": "code",
   "execution_count": 13,
   "metadata": {},
   "outputs": [
    {
     "name": "stdout",
     "output_type": "stream",
     "text": [
      "['', '[UNK]', '01', '02', '03', '04', '05', '06', '07', '08', '09', '10', '11', '12', '13', '14', '15', '16', '17', '18', '19', '20', '21', '22', '23', '24', '25', '26', '27', '28', '29', '30', '31', 'January', 'February', 'March', 'April', 'May', 'June', 'July', 'August', 'September', 'October', 'November', 'December', '1900', '1901', '1902', '1903', '1904', '1905', '1906', '1907', '1908', '1909', '1910', '1911', '1912', '1913', '1914', '1915', '1916', '1917', '1918', '1919', '1920', '1921', '1922', '1923', '1924', '1925', '1926', '1927', '1928', '1929', '1930', '1931', '1932', '1933', '1934', '1935', '1936', '1937', '1938', '1939', '1940', '1941', '1942', '1943', '1944', '1945', '1946', '1947', '1948', '1949', '1950', '1951', '1952', '1953', '1954', '1955', '1956', '1957', '1958', '1959', '1960', '1961', '1962', '1963', '1964', '1965', '1966', '1967', '1968', '1969', '1970', '1971', '1972', '1973', '1974', '1975', '1976', '1977', '1978', '1979', '1980', '1981', '1982', '1983', '1984', '1985', '1986', '1987', '1988', '1989', '1990', '1991', '1992', '1993', '1994', '1995', '1996', '1997', '1998', '1999', '2000', '2001', '2002', '2003', '2004', '2005', '2006', '2007', '2008', '2009', '2010', '2011', '2012', '2013', '2014', '2015', '2016', '2017', '2018', '2019', '2020', '2021', '2022', '2023', '2024', '2025', '2026', '2027', '2028', '2029', '2030', '2031', '2032', '2033', '2034', '2035', '2036', '2037', '2038', '2039', '2040', '2041', '2042', '2043', '2044', '2045', '2046', '2047', '2048', '2049', '2050', '2051', '2052', '2053', '2054', '2055', '2056', '2057', '2058', '2059', '2060', '2061', '2062', '2063', '2064', '2065', '2066', '2067', '2068', '2069', '2070', '2071', '2072', '2073', '2074', '2075', '2076', '2077', '2078', '2079', '2080', '2081', '2082', '2083', '2084', '2085', '2086', '2087', '2088', '2089', '2090', '2091', '2092', '2093', '2094', '2095', '2096', '2097', '2098', '2099']\n"
     ]
    }
   ],
   "source": [
    "print(text_vec_layer_read.get_vocabulary())"
   ]
  },
  {
   "cell_type": "code",
   "execution_count": 14,
   "metadata": {},
   "outputs": [
    {
     "name": "stdout",
     "output_type": "stream",
     "text": [
      "['', '[UNK]', '01', '02', '03', '04', '05', '06', '07', '08', '09', '10', '11', '12', '13', '14', '15', '16', '17', '18', '19', '20', '21', '22', '23', '24', '25', '26', '27', '28', '29', '30', '31', '1900', '1901', '1902', '1903', '1904', '1905', '1906', '1907', '1908', '1909', '1910', '1911', '1912', '1913', '1914', '1915', '1916', '1917', '1918', '1919', '1920', '1921', '1922', '1923', '1924', '1925', '1926', '1927', '1928', '1929', '1930', '1931', '1932', '1933', '1934', '1935', '1936', '1937', '1938', '1939', '1940', '1941', '1942', '1943', '1944', '1945', '1946', '1947', '1948', '1949', '1950', '1951', '1952', '1953', '1954', '1955', '1956', '1957', '1958', '1959', '1960', '1961', '1962', '1963', '1964', '1965', '1966', '1967', '1968', '1969', '1970', '1971', '1972', '1973', '1974', '1975', '1976', '1977', '1978', '1979', '1980', '1981', '1982', '1983', '1984', '1985', '1986', '1987', '1988', '1989', '1990', '1991', '1992', '1993', '1994', '1995', '1996', '1997', '1998', '1999', '2000', '2001', '2002', '2003', '2004', '2005', '2006', '2007', '2008', '2009', '2010', '2011', '2012', '2013', '2014', '2015', '2016', '2017', '2018', '2019', '2020', '2021', '2022', '2023', '2024', '2025', '2026', '2027', '2028', '2029', '2030', '2031', '2032', '2033', '2034', '2035', '2036', '2037', '2038', '2039', '2040', '2041', '2042', '2043', '2044', '2045', '2046', '2047', '2048', '2049', '2050', '2051', '2052', '2053', '2054', '2055', '2056', '2057', '2058', '2059', '2060', '2061', '2062', '2063', '2064', '2065', '2066', '2067', '2068', '2069', '2070', '2071', '2072', '2073', '2074', '2075', '2076', '2077', '2078', '2079', '2080', '2081', '2082', '2083', '2084', '2085', '2086', '2087', '2088', '2089', '2090', '2091', '2092', '2093', '2094', '2095', '2096', '2097', '2098', '2099', '<', '>', '-']\n"
     ]
    }
   ],
   "source": [
    "print(text_vec_layer_iso.get_vocabulary())"
   ]
  },
  {
   "cell_type": "code",
   "execution_count": 15,
   "metadata": {},
   "outputs": [
    {
     "name": "stdout",
     "output_type": "stream",
     "text": [
      "tf.Tensor([ 43   3 111], shape=(3,), dtype=int64)\n",
      "tf.Tensor([233  65  11  25 234], shape=(5,), dtype=int64)\n"
     ]
    }
   ],
   "source": [
    "print(text_vec_layer_read(\"November 02, 1966\"))\n",
    "print(text_vec_layer_iso(f\"{START_OF_SEQ}-1932-10-24-{END_OF_SEQ}\"))"
   ]
  },
  {
   "cell_type": "code",
   "execution_count": 16,
   "metadata": {},
   "outputs": [],
   "source": [
    "EMBED_SIZE_ISO = VOCAB_SIZE_ISO // 2\n",
    "EMBED_SIZE_READ = VOCAB_SIZE_READ // 2\n",
    "\n",
    "MAX_OUTPUT_LENGTH = 3 # number of tokens to predict is constant (e.g. [2019, 04, 22])"
   ]
  },
  {
   "cell_type": "markdown",
   "metadata": {},
   "source": [
    "#### Simple seq2seq model\n",
    "\n",
    "Adapted from [exercise solution](https://github.com/ageron/handson-ml3/blob/main/16_nlp_with_rnns_and_attention.ipynb) to use words instead of chars."
   ]
  },
  {
   "cell_type": "code",
   "execution_count": 17,
   "metadata": {},
   "outputs": [],
   "source": [
    "X_train_vec = text_vec_layer_read(X_train)\n",
    "X_valid_vec = text_vec_layer_read(X_valid)\n",
    "X_test_vec = text_vec_layer_read(X_test)\n",
    "\n",
    "y_train_vec = text_vec_layer_iso(y_train)\n",
    "y_valid_vec = text_vec_layer_iso(y_valid)\n",
    "y_test_vec = text_vec_layer_iso(y_test)"
   ]
  },
  {
   "cell_type": "code",
   "execution_count": 18,
   "metadata": {},
   "outputs": [
    {
     "name": "stdout",
     "output_type": "stream",
     "text": [
      "tf.Tensor(\n",
      "[[ 40  19 163]\n",
      " [ 35   7  92]\n",
      " [ 39  15 147]\n",
      " [ 43  20 164]\n",
      " [ 38  14 121]], shape=(5, 3), dtype=int64)\n"
     ]
    }
   ],
   "source": [
    "print(X_train_vec[:5])"
   ]
  },
  {
   "cell_type": "code",
   "execution_count": 19,
   "metadata": {},
   "outputs": [
    {
     "name": "stdout",
     "output_type": "stream",
     "text": [
      "tf.Tensor(\n",
      "[[151   9  19]\n",
      " [ 80   4   7]\n",
      " [135   8  15]\n",
      " [152  12  20]\n",
      " [109   7  14]], shape=(5, 3), dtype=int64)\n"
     ]
    }
   ],
   "source": [
    "print(y_train_vec[:5])"
   ]
  },
  {
   "cell_type": "code",
   "execution_count": 20,
   "metadata": {},
   "outputs": [
    {
     "name": "stderr",
     "output_type": "stream",
     "text": [
      "/home/martin/miniconda/lib/python3.12/site-packages/keras/src/layers/core/embedding.py:93: UserWarning: Do not pass an `input_shape`/`input_dim` argument to a layer. When using Sequential models, prefer using an `Input(shape)` object as the first layer in the model instead.\n",
      "  super().__init__(**kwargs)\n"
     ]
    },
    {
     "name": "stdout",
     "output_type": "stream",
     "text": [
      "Epoch 1/20\n"
     ]
    },
    {
     "name": "stderr",
     "output_type": "stream",
     "text": [
      "I0000 00:00:1742805020.927772   43462 cuda_dnn.cc:529] Loaded cuDNN version 90700\n"
     ]
    },
    {
     "name": "stdout",
     "output_type": "stream",
     "text": [
      "\u001b[1m250/250\u001b[0m \u001b[32m━━━━━━━━━━━━━━━━━━━━\u001b[0m\u001b[37m\u001b[0m \u001b[1m6s\u001b[0m 21ms/step - accuracy: 0.0778 - loss: 4.3138 - val_accuracy: 0.3720 - val_loss: 2.6002\n",
      "Epoch 2/20\n",
      "\u001b[1m250/250\u001b[0m \u001b[32m━━━━━━━━━━━━━━━━━━━━\u001b[0m\u001b[37m\u001b[0m \u001b[1m5s\u001b[0m 20ms/step - accuracy: 0.4693 - loss: 2.3298 - val_accuracy: 0.6557 - val_loss: 1.8010\n",
      "Epoch 3/20\n",
      "\u001b[1m250/250\u001b[0m \u001b[32m━━━━━━━━━━━━━━━━━━━━\u001b[0m\u001b[37m\u001b[0m \u001b[1m5s\u001b[0m 20ms/step - accuracy: 0.6740 - loss: 1.6658 - val_accuracy: 0.7373 - val_loss: 1.3827\n",
      "Epoch 4/20\n",
      "\u001b[1m250/250\u001b[0m \u001b[32m━━━━━━━━━━━━━━━━━━━━\u001b[0m\u001b[37m\u001b[0m \u001b[1m5s\u001b[0m 22ms/step - accuracy: 0.8508 - loss: 1.0934 - val_accuracy: 0.9880 - val_loss: 0.5096\n",
      "Epoch 5/20\n",
      "\u001b[1m250/250\u001b[0m \u001b[32m━━━━━━━━━━━━━━━━━━━━\u001b[0m\u001b[37m\u001b[0m \u001b[1m5s\u001b[0m 18ms/step - accuracy: 0.9967 - loss: 0.3371 - val_accuracy: 0.9980 - val_loss: 0.1580\n",
      "Epoch 6/20\n",
      "\u001b[1m250/250\u001b[0m \u001b[32m━━━━━━━━━━━━━━━━━━━━\u001b[0m\u001b[37m\u001b[0m \u001b[1m4s\u001b[0m 17ms/step - accuracy: 0.9999 - loss: 0.1063 - val_accuracy: 0.9993 - val_loss: 0.0741\n",
      "Epoch 7/20\n",
      "\u001b[1m250/250\u001b[0m \u001b[32m━━━━━━━━━━━━━━━━━━━━\u001b[0m\u001b[37m\u001b[0m \u001b[1m2s\u001b[0m 10ms/step - accuracy: 1.0000 - loss: 0.0520 - val_accuracy: 1.0000 - val_loss: 0.0447\n",
      "Epoch 8/20\n",
      "\u001b[1m250/250\u001b[0m \u001b[32m━━━━━━━━━━━━━━━━━━━━\u001b[0m\u001b[37m\u001b[0m \u001b[1m5s\u001b[0m 18ms/step - accuracy: 1.0000 - loss: 0.0316 - val_accuracy: 1.0000 - val_loss: 0.0303\n",
      "Epoch 9/20\n",
      "\u001b[1m250/250\u001b[0m \u001b[32m━━━━━━━━━━━━━━━━━━━━\u001b[0m\u001b[37m\u001b[0m \u001b[1m5s\u001b[0m 20ms/step - accuracy: 1.0000 - loss: 0.0213 - val_accuracy: 0.9997 - val_loss: 0.0219\n",
      "Epoch 10/20\n",
      "\u001b[1m250/250\u001b[0m \u001b[32m━━━━━━━━━━━━━━━━━━━━\u001b[0m\u001b[37m\u001b[0m \u001b[1m5s\u001b[0m 21ms/step - accuracy: 1.0000 - loss: 0.0155 - val_accuracy: 1.0000 - val_loss: 0.0164\n",
      "Epoch 11/20\n",
      "\u001b[1m250/250\u001b[0m \u001b[32m━━━━━━━━━━━━━━━━━━━━\u001b[0m\u001b[37m\u001b[0m \u001b[1m5s\u001b[0m 21ms/step - accuracy: 1.0000 - loss: 0.0117 - val_accuracy: 1.0000 - val_loss: 0.0129\n",
      "Epoch 12/20\n",
      "\u001b[1m250/250\u001b[0m \u001b[32m━━━━━━━━━━━━━━━━━━━━\u001b[0m\u001b[37m\u001b[0m \u001b[1m6s\u001b[0m 23ms/step - accuracy: 1.0000 - loss: 0.0090 - val_accuracy: 1.0000 - val_loss: 0.0104\n",
      "Epoch 13/20\n",
      "\u001b[1m250/250\u001b[0m \u001b[32m━━━━━━━━━━━━━━━━━━━━\u001b[0m\u001b[37m\u001b[0m \u001b[1m2s\u001b[0m 9ms/step - accuracy: 1.0000 - loss: 0.0071 - val_accuracy: 1.0000 - val_loss: 0.0085\n",
      "Epoch 14/20\n",
      "\u001b[1m250/250\u001b[0m \u001b[32m━━━━━━━━━━━━━━━━━━━━\u001b[0m\u001b[37m\u001b[0m \u001b[1m6s\u001b[0m 24ms/step - accuracy: 1.0000 - loss: 0.0058 - val_accuracy: 1.0000 - val_loss: 0.0069\n",
      "Epoch 15/20\n",
      "\u001b[1m250/250\u001b[0m \u001b[32m━━━━━━━━━━━━━━━━━━━━\u001b[0m\u001b[37m\u001b[0m \u001b[1m6s\u001b[0m 22ms/step - accuracy: 1.0000 - loss: 0.0047 - val_accuracy: 1.0000 - val_loss: 0.0058\n",
      "Epoch 16/20\n",
      "\u001b[1m250/250\u001b[0m \u001b[32m━━━━━━━━━━━━━━━━━━━━\u001b[0m\u001b[37m\u001b[0m \u001b[1m5s\u001b[0m 22ms/step - accuracy: 1.0000 - loss: 0.0039 - val_accuracy: 1.0000 - val_loss: 0.0049\n",
      "Epoch 17/20\n",
      "\u001b[1m250/250\u001b[0m \u001b[32m━━━━━━━━━━━━━━━━━━━━\u001b[0m\u001b[37m\u001b[0m \u001b[1m6s\u001b[0m 22ms/step - accuracy: 1.0000 - loss: 0.0033 - val_accuracy: 1.0000 - val_loss: 0.0041\n",
      "Epoch 18/20\n",
      "\u001b[1m250/250\u001b[0m \u001b[32m━━━━━━━━━━━━━━━━━━━━\u001b[0m\u001b[37m\u001b[0m \u001b[1m5s\u001b[0m 21ms/step - accuracy: 1.0000 - loss: 0.0027 - val_accuracy: 1.0000 - val_loss: 0.0035\n",
      "Epoch 19/20\n",
      "\u001b[1m250/250\u001b[0m \u001b[32m━━━━━━━━━━━━━━━━━━━━\u001b[0m\u001b[37m\u001b[0m \u001b[1m3s\u001b[0m 11ms/step - accuracy: 1.0000 - loss: 0.0023 - val_accuracy: 1.0000 - val_loss: 0.0030\n",
      "Epoch 20/20\n",
      "\u001b[1m250/250\u001b[0m \u001b[32m━━━━━━━━━━━━━━━━━━━━\u001b[0m\u001b[37m\u001b[0m \u001b[1m5s\u001b[0m 20ms/step - accuracy: 1.0000 - loss: 0.0020 - val_accuracy: 1.0000 - val_loss: 0.0026\n"
     ]
    }
   ],
   "source": [
    "early_stopping_cb = keras.callbacks.EarlyStopping(\n",
    "    monitor=\"val_loss\", patience=10, restore_best_weights=True\n",
    ")\n",
    "\n",
    "encoder = keras.Sequential(\n",
    "    [\n",
    "        keras.layers.Embedding(\n",
    "            input_dim=VOCAB_SIZE_READ,\n",
    "            output_dim=EMBED_SIZE_READ,\n",
    "            input_shape=[None],\n",
    "        ),\n",
    "        keras.layers.LSTM(128),\n",
    "    ]\n",
    ")\n",
    "\n",
    "decoder = keras.Sequential(\n",
    "    [\n",
    "        keras.layers.LSTM(128, return_sequences=True),\n",
    "        keras.layers.Dense(VOCAB_SIZE_ISO, activation=\"softmax\"),\n",
    "    ]\n",
    ")\n",
    "\n",
    "model = keras.Sequential(\n",
    "    [encoder, keras.layers.RepeatVector(MAX_OUTPUT_LENGTH), decoder]\n",
    ")\n",
    "\n",
    "optimizer = keras.optimizers.Nadam()\n",
    "model.compile(\n",
    "    loss=\"sparse_categorical_crossentropy\", optimizer=optimizer, metrics=[\"accuracy\"]\n",
    ")\n",
    "history = model.fit(\n",
    "    X_train_vec,\n",
    "    y_train_vec,\n",
    "    epochs=20,\n",
    "    validation_data=(X_valid_vec, y_valid_vec),\n",
    "    callbacks=[early_stopping_cb],\n",
    ")"
   ]
  },
  {
   "cell_type": "code",
   "execution_count": 21,
   "metadata": {},
   "outputs": [
    {
     "name": "stdout",
     "output_type": "stream",
     "text": [
      "\u001b[1m32/32\u001b[0m \u001b[32m━━━━━━━━━━━━━━━━━━━━\u001b[0m\u001b[37m\u001b[0m \u001b[1m0s\u001b[0m 11ms/step - accuracy: 1.0000 - loss: 0.0024\n"
     ]
    },
    {
     "data": {
      "text/plain": [
       "[0.0024165837094187737, 1.0]"
      ]
     },
     "execution_count": 21,
     "metadata": {},
     "output_type": "execute_result"
    }
   ],
   "source": [
    "model.evaluate(X_test_vec, y_test_vec)"
   ]
  },
  {
   "cell_type": "code",
   "execution_count": 22,
   "metadata": {},
   "outputs": [
    {
     "name": "stdout",
     "output_type": "stream",
     "text": [
      "\u001b[1m1/1\u001b[0m \u001b[32m━━━━━━━━━━━━━━━━━━━━\u001b[0m\u001b[37m\u001b[0m \u001b[1m0s\u001b[0m 210ms/step\n"
     ]
    }
   ],
   "source": [
    "def convert_simple(date_read):\n",
    "    date_vec = text_vec_layer_read([date_read]) # needs to pass array because that is the shape that the model was train on\n",
    "    predictions = model.predict(date_vec)\n",
    "    \n",
    "    word_idxs = np.argmax(predictions, axis=2) # choose word indexes with highest probability\n",
    "    word_idxs = word_idxs.reshape((-1)) # drop first axis (we are only passing single date)\n",
    "\n",
    "    result = []\n",
    "    for index in word_idxs:\n",
    "        result.append(text_vec_layer_iso.get_vocabulary()[index])\n",
    "\n",
    "    return DELIMITER.join(result)\n",
    "\n",
    "result = convert_simple(\"April 22, 2019\")\n",
    "assert result == \"2019-04-22\""
   ]
  },
  {
   "cell_type": "markdown",
   "metadata": {},
   "source": [
    "#### Encoder-Decoder\n",
    "\n",
    "Inspired by code examples from [the Hands on ML book](https://github.com/ageron/handson-ml3/blob/main/16_nlp_with_rnns_and_attention.ipynb)."
   ]
  },
  {
   "cell_type": "code",
   "execution_count": 23,
   "metadata": {},
   "outputs": [],
   "source": [
    "X_train = tf.constant(X_train)\n",
    "X_valid = tf.constant(X_valid)\n",
    "X_test = tf.constant(X_test)\n",
    "\n",
    "X_train_dec = tf.constant([f\"{START_OF_SEQ}-{date}\" for date in y_train])\n",
    "X_valid_dec = tf.constant([f\"{START_OF_SEQ}-{date}\" for date in y_valid])\n",
    "X_test_dec = tf.constant([f\"{START_OF_SEQ}-{date}\" for date in y_test])\n",
    "\n",
    "y_train_dec = text_vec_layer_iso([f\"{date}-{END_OF_SEQ}\" for date in y_train])\n",
    "y_valid_dec = text_vec_layer_iso([f\"{date}-{END_OF_SEQ}\" for date in y_valid])\n",
    "y_test_dec = text_vec_layer_iso([f\"{date}-{END_OF_SEQ}\" for date in y_test])"
   ]
  },
  {
   "cell_type": "code",
   "execution_count": 24,
   "metadata": {},
   "outputs": [
    {
     "data": {
      "text/plain": [
       "<tf.Tensor: shape=(5, 3), dtype=int64, numpy=\n",
       "array([[ 40,  19, 163],\n",
       "       [ 35,   7,  92],\n",
       "       [ 39,  15, 147],\n",
       "       [ 43,  20, 164],\n",
       "       [ 38,  14, 121]])>"
      ]
     },
     "execution_count": 24,
     "metadata": {},
     "output_type": "execute_result"
    }
   ],
   "source": [
    "text_vec_layer_read(X_train[:5])"
   ]
  },
  {
   "cell_type": "code",
   "execution_count": 25,
   "metadata": {},
   "outputs": [
    {
     "data": {
      "text/plain": [
       "<tf.Tensor: shape=(5, 4), dtype=int64, numpy=\n",
       "array([[233, 151,   9,  19],\n",
       "       [233,  80,   4,   7],\n",
       "       [233, 135,   8,  15],\n",
       "       [233, 152,  12,  20],\n",
       "       [233, 109,   7,  14]])>"
      ]
     },
     "execution_count": 25,
     "metadata": {},
     "output_type": "execute_result"
    }
   ],
   "source": [
    "text_vec_layer_iso(X_train_dec[:5])"
   ]
  },
  {
   "cell_type": "code",
   "execution_count": 26,
   "metadata": {},
   "outputs": [
    {
     "data": {
      "text/plain": [
       "<tf.Tensor: shape=(5, 4), dtype=int64, numpy=\n",
       "array([[151,   9,  19, 234],\n",
       "       [ 80,   4,   7, 234],\n",
       "       [135,   8,  15, 234],\n",
       "       [152,  12,  20, 234],\n",
       "       [109,   7,  14, 234]])>"
      ]
     },
     "execution_count": 26,
     "metadata": {},
     "output_type": "execute_result"
    }
   ],
   "source": [
    "y_train_dec[:5]"
   ]
  },
  {
   "cell_type": "code",
   "execution_count": 27,
   "metadata": {},
   "outputs": [],
   "source": [
    "encoder_inputs = keras.layers.Input(shape=[], dtype=tf.string)\n",
    "decoder_inputs = keras.layers.Input(shape=[], dtype=tf.string)"
   ]
  },
  {
   "cell_type": "code",
   "execution_count": 28,
   "metadata": {},
   "outputs": [],
   "source": [
    "encoder_input_ids = text_vec_layer_read(encoder_inputs)\n",
    "decoder_input_ids = text_vec_layer_iso(decoder_inputs)\n",
    "\n",
    "encoder_embedding_layer = keras.layers.Embedding(\n",
    "    VOCAB_SIZE_READ, EMBED_SIZE_READ\n",
    ")\n",
    "decoder_embedding_layer = keras.layers.Embedding(\n",
    "    VOCAB_SIZE_ISO, EMBED_SIZE_ISO\n",
    ")\n",
    "\n",
    "encoder_embeddings = encoder_embedding_layer(encoder_input_ids)\n",
    "decoder_embeddings = decoder_embedding_layer(decoder_input_ids)"
   ]
  },
  {
   "cell_type": "code",
   "execution_count": 29,
   "metadata": {},
   "outputs": [],
   "source": [
    "encoder = keras.layers.LSTM(128, return_state=True)\n",
    "encoder_outputs, *encoder_state = encoder(encoder_embeddings)"
   ]
  },
  {
   "cell_type": "code",
   "execution_count": 30,
   "metadata": {},
   "outputs": [],
   "source": [
    "decoder = keras.layers.LSTM(128, return_sequences=True)\n",
    "decoder_outputs = decoder(decoder_embeddings, initial_state=encoder_state)"
   ]
  },
  {
   "cell_type": "code",
   "execution_count": 31,
   "metadata": {},
   "outputs": [],
   "source": [
    "output_layer = keras.layers.Dense(VOCAB_SIZE_ISO, activation=\"softmax\")\n",
    "Y_proba = output_layer(decoder_outputs)"
   ]
  },
  {
   "cell_type": "code",
   "execution_count": 32,
   "metadata": {},
   "outputs": [
    {
     "name": "stdout",
     "output_type": "stream",
     "text": [
      "Epoch 1/10\n",
      "\u001b[1m250/250\u001b[0m \u001b[32m━━━━━━━━━━━━━━━━━━━━\u001b[0m\u001b[37m\u001b[0m \u001b[1m10s\u001b[0m 29ms/step - accuracy: 0.2810 - loss: 3.6668 - val_accuracy: 0.5863 - val_loss: 1.8001\n",
      "Epoch 2/10\n",
      "\u001b[1m250/250\u001b[0m \u001b[32m━━━━━━━━━━━━━━━━━━━━\u001b[0m\u001b[37m\u001b[0m \u001b[1m7s\u001b[0m 28ms/step - accuracy: 0.6936 - loss: 1.5101 - val_accuracy: 0.8960 - val_loss: 0.8791\n",
      "Epoch 3/10\n",
      "\u001b[1m250/250\u001b[0m \u001b[32m━━━━━━━━━━━━━━━━━━━━\u001b[0m\u001b[37m\u001b[0m \u001b[1m7s\u001b[0m 29ms/step - accuracy: 0.9627 - loss: 0.6029 - val_accuracy: 0.9998 - val_loss: 0.1412\n",
      "Epoch 4/10\n",
      "\u001b[1m250/250\u001b[0m \u001b[32m━━━━━━━━━━━━━━━━━━━━\u001b[0m\u001b[37m\u001b[0m \u001b[1m4s\u001b[0m 16ms/step - accuracy: 1.0000 - loss: 0.0942 - val_accuracy: 1.0000 - val_loss: 0.0464\n",
      "Epoch 5/10\n",
      "\u001b[1m250/250\u001b[0m \u001b[32m━━━━━━━━━━━━━━━━━━━━\u001b[0m\u001b[37m\u001b[0m \u001b[1m6s\u001b[0m 26ms/step - accuracy: 1.0000 - loss: 0.0343 - val_accuracy: 1.0000 - val_loss: 0.0241\n",
      "Epoch 6/10\n",
      "\u001b[1m250/250\u001b[0m \u001b[32m━━━━━━━━━━━━━━━━━━━━\u001b[0m\u001b[37m\u001b[0m \u001b[1m7s\u001b[0m 26ms/step - accuracy: 1.0000 - loss: 0.0182 - val_accuracy: 1.0000 - val_loss: 0.0151\n",
      "Epoch 7/10\n",
      "\u001b[1m250/250\u001b[0m \u001b[32m━━━━━━━━━━━━━━━━━━━━\u001b[0m\u001b[37m\u001b[0m \u001b[1m8s\u001b[0m 30ms/step - accuracy: 1.0000 - loss: 0.0116 - val_accuracy: 1.0000 - val_loss: 0.0104\n",
      "Epoch 8/10\n",
      "\u001b[1m250/250\u001b[0m \u001b[32m━━━━━━━━━━━━━━━━━━━━\u001b[0m\u001b[37m\u001b[0m \u001b[1m6s\u001b[0m 26ms/step - accuracy: 1.0000 - loss: 0.0081 - val_accuracy: 1.0000 - val_loss: 0.0076\n",
      "Epoch 9/10\n",
      "\u001b[1m250/250\u001b[0m \u001b[32m━━━━━━━━━━━━━━━━━━━━\u001b[0m\u001b[37m\u001b[0m \u001b[1m11s\u001b[0m 44ms/step - accuracy: 1.0000 - loss: 0.0060 - val_accuracy: 1.0000 - val_loss: 0.0058\n",
      "Epoch 10/10\n",
      "\u001b[1m250/250\u001b[0m \u001b[32m━━━━━━━━━━━━━━━━━━━━\u001b[0m\u001b[37m\u001b[0m \u001b[1m10s\u001b[0m 40ms/step - accuracy: 1.0000 - loss: 0.0046 - val_accuracy: 1.0000 - val_loss: 0.0045\n"
     ]
    },
    {
     "data": {
      "text/plain": [
       "<keras.src.callbacks.history.History at 0x7f396ed95a30>"
      ]
     },
     "execution_count": 32,
     "metadata": {},
     "output_type": "execute_result"
    }
   ],
   "source": [
    "model = keras.Model(inputs=[encoder_inputs, decoder_inputs], outputs=[Y_proba])\n",
    "model.compile(\n",
    "    loss=\"sparse_categorical_crossentropy\", optimizer=\"nadam\", metrics=[\"accuracy\"]\n",
    ")\n",
    "model.fit(\n",
    "    (X_train, X_train_dec),\n",
    "    y_train_dec,\n",
    "    epochs=10,\n",
    "    validation_data=((X_valid, X_valid_dec), y_valid_dec),\n",
    ")"
   ]
  },
  {
   "cell_type": "code",
   "execution_count": 33,
   "metadata": {},
   "outputs": [
    {
     "name": "stdout",
     "output_type": "stream",
     "text": [
      "\u001b[1m32/32\u001b[0m \u001b[32m━━━━━━━━━━━━━━━━━━━━\u001b[0m\u001b[37m\u001b[0m \u001b[1m1s\u001b[0m 23ms/step - accuracy: 1.0000 - loss: 0.0044\n"
     ]
    },
    {
     "data": {
      "text/plain": [
       "[0.004451965447515249, 1.0]"
      ]
     },
     "execution_count": 33,
     "metadata": {},
     "output_type": "execute_result"
    }
   ],
   "source": [
    "model.evaluate((X_test, X_test_dec), y_test_dec)"
   ]
  },
  {
   "cell_type": "code",
   "execution_count": 34,
   "metadata": {},
   "outputs": [
    {
     "name": "stdout",
     "output_type": "stream",
     "text": [
      "\u001b[1m1/1\u001b[0m \u001b[32m━━━━━━━━━━━━━━━━━━━━\u001b[0m\u001b[37m\u001b[0m \u001b[1m0s\u001b[0m 408ms/step\n",
      "2019\n",
      "\u001b[1m1/1\u001b[0m \u001b[32m━━━━━━━━━━━━━━━━━━━━\u001b[0m\u001b[37m\u001b[0m \u001b[1m0s\u001b[0m 64ms/step\n",
      "04\n",
      "\u001b[1m1/1\u001b[0m \u001b[32m━━━━━━━━━━━━━━━━━━━━\u001b[0m\u001b[37m\u001b[0m \u001b[1m0s\u001b[0m 58ms/step\n",
      "22\n"
     ]
    }
   ],
   "source": [
    "def convert_encoder_decoder(date_read):\n",
    "    # Convert the input date to a tensor using the text vectorization layer\n",
    "    date_vec = tf.constant([date_read])  # Pass as a list\n",
    "\n",
    "    # Initialize the decoder input with the SOS\n",
    "    decoder_input = tf.constant([f\"{START_OF_SEQ}\"])\n",
    "\n",
    "    # Iterate over the maximum output length\n",
    "    for _ in range(MAX_OUTPUT_LENGTH):\n",
    "        # Predict the next token\n",
    "        predictions = model.predict([date_vec, decoder_input])\n",
    "        next_token_id = np.argmax(\n",
    "            predictions[0, -1, :]\n",
    "        )  # Get the token with the highest probability\n",
    "\n",
    "        next_token = text_vec_layer_iso.get_vocabulary()[next_token_id]\n",
    "        print(next_token)\n",
    "\n",
    "        # Update the decoder input for the next iteration\n",
    "        decoder_input = tf.strings.join(\n",
    "            [decoder_input, tf.constant([f\"{DELIMITER}{next_token}\"])]\n",
    "        )\n",
    "\n",
    "    # Remove Start of Sequence (+ Delimiter) from decoder input to get final predicted result\n",
    "    result = tf.strings.regex_replace(decoder_input, \"<-\", \"\")\n",
    "    return result\n",
    "\n",
    "\n",
    "result = convert_encoder_decoder(\"April 22, 2019\")\n",
    "assert result == \"2019-04-22\""
   ]
  },
  {
   "cell_type": "markdown",
   "metadata": {},
   "source": [
    "#### Transformer\n",
    "\n",
    "Inspired by code examples from [the Hands on ML book](https://github.com/ageron/handson-ml3/blob/main/16_nlp_with_rnns_and_attention.ipynb)."
   ]
  },
  {
   "attachments": {
    "image.png": {
     "image/png": "[encoded data removed]"
    }
   },
   "cell_type": "markdown",
   "metadata": {},
   "source": [
    "![image.png](attachment:image.png)"
   ]
  },
  {
   "cell_type": "code",
   "execution_count": 66,
   "metadata": {},
   "outputs": [],
   "source": [
    "max_length = 4"
   ]
  },
  {
   "cell_type": "code",
   "execution_count": 67,
   "metadata": {},
   "outputs": [],
   "source": [
    "# TODO: try replacing with https://keras.io/keras_hub/api/modeling_layers/sine_position_encoding/\n",
    "\n",
    "class PositionalEncoding(keras.layers.Layer):\n",
    "    def __init__(self, max_length, embed_size, dtype=tf.float32, **kwargs):\n",
    "        super().__init__(dtype=dtype, **kwargs)\n",
    "        assert embed_size % 2 == 0, \"embed_size must be even\"\n",
    "        p, i = np.meshgrid(np.arange(max_length),\n",
    "                           2 * np.arange(embed_size // 2))\n",
    "        pos_emb = np.empty((1, max_length, embed_size))\n",
    "        pos_emb[0, :, ::2] = np.sin(p / 10_000 ** (i / embed_size)).T\n",
    "        pos_emb[0, :, 1::2] = np.cos(p / 10_000 ** (i / embed_size)).T\n",
    "        self.pos_encodings = tf.constant(pos_emb.astype(self.dtype))\n",
    "        self.supports_masking = True\n",
    "\n",
    "    def call(self, inputs):\n",
    "        batch_max_length = tf.shape(inputs)[1]\n",
    "        return inputs + self.pos_encodings[:, :batch_max_length]"
   ]
  },
  {
   "cell_type": "code",
   "execution_count": 68,
   "metadata": {},
   "outputs": [],
   "source": [
    "# (Changed) Created separate PositionalEncodings\n",
    "pos_embed_layer_enc = PositionalEncoding(max_length, EMBED_SIZE_READ)\n",
    "pos_embed_layer_dec = PositionalEncoding(max_length, EMBED_SIZE_ISO)\n",
    "\n",
    "encoder_in = pos_embed_layer_enc(encoder_embeddings)\n",
    "decoder_in = pos_embed_layer_dec(decoder_embeddings)"
   ]
  },
  {
   "cell_type": "code",
   "execution_count": 69,
   "metadata": {},
   "outputs": [],
   "source": [
    "N = 2  # instead of 6\n",
    "num_heads = 8\n",
    "dropout_rate = 0.1\n",
    "n_units = 128  # for the first Dense layer in each Feed Forward block\n",
    "\n",
    "# (Changed) Wrapped tensor into Layer\n",
    "encoder_pad_mask_layer = keras.layers.Lambda(lambda x: tf.math.not_equal(x, 0)[:, tf.newaxis])\n",
    "encoder_pad_mask = encoder_pad_mask_layer(encoder_input_ids)\n",
    "\n",
    "Z = encoder_in\n",
    "for _ in range(N):\n",
    "    skip = Z\n",
    "    \n",
    "    attn_layer = keras.layers.MultiHeadAttention(\n",
    "        num_heads=num_heads, key_dim=EMBED_SIZE_READ, dropout=dropout_rate)\n",
    "    Z = attn_layer(Z, value=Z, attention_mask=encoder_pad_mask)\n",
    "\n",
    "    Z = keras.layers.LayerNormalization()(keras.layers.Add()([Z, skip]))\n",
    "    \n",
    "    skip = Z\n",
    "    Z = keras.layers.Dense(n_units, activation=\"relu\")(Z)\n",
    "    Z = keras.layers.Dense(EMBED_SIZE_READ)(Z)\n",
    "    Z = keras.layers.Dropout(dropout_rate)(Z)\n",
    "    Z = keras.layers.LayerNormalization()(keras.layers.Add()([Z, skip]))"
   ]
  },
  {
   "cell_type": "code",
   "execution_count": 70,
   "metadata": {},
   "outputs": [],
   "source": [
    "# (Changed) Wrapped tensor into Layer\n",
    "batch_max_len_dec_layer = keras.layers.Lambda(lambda x: tf.shape(x)[1])\n",
    "batch_max_len_dec = batch_max_len_dec_layer(decoder_embeddings)\n",
    "\n",
    "decoder_pad_mask_layer = keras.layers.Lambda(\n",
    "    lambda x: tf.math.not_equal(x, 0)[:, tf.newaxis],\n",
    "    output_shape=lambda input_shape: (input_shape[0], 1, input_shape[1])\n",
    ")\n",
    "decoder_pad_mask = decoder_pad_mask_layer(decoder_input_ids)\n",
    "\n",
    "causal_mask_layer = keras.layers.Lambda(\n",
    "    lambda x: tf.linalg.band_part(\n",
    "        tf.ones((tf.shape(x)[1], tf.shape(x)[1]), dtype=tf.bool), -1, 0\n",
    "    )\n",
    ")\n",
    "causal_mask = causal_mask_layer(decoder_embeddings)"
   ]
  },
  {
   "cell_type": "code",
   "execution_count": 71,
   "metadata": {},
   "outputs": [],
   "source": [
    "encoder_outputs = Z  # let's save the encoder's final outputs\n",
    "Z = decoder_in  # the decoder starts with its own inputs\n",
    "for _ in range(N):\n",
    "    skip = Z\n",
    "    attn_layer = keras.layers.MultiHeadAttention(\n",
    "        num_heads=num_heads, key_dim=EMBED_SIZE_ISO, dropout=dropout_rate)\n",
    "    Z = attn_layer(Z, value=Z, attention_mask=causal_mask & decoder_pad_mask)\n",
    "    Z = keras.layers.LayerNormalization()(keras.layers.Add()([Z, skip]))\n",
    "    skip = Z\n",
    "    attn_layer = keras.layers.MultiHeadAttention(\n",
    "        num_heads=num_heads, key_dim=EMBED_SIZE_ISO, dropout=dropout_rate)\n",
    "    Z = attn_layer(Z, value=encoder_outputs, attention_mask=encoder_pad_mask)\n",
    "    Z = keras.layers.LayerNormalization()(keras.layers.Add()([Z, skip]))\n",
    "    skip = Z\n",
    "    Z = keras.layers.Dense(n_units, activation=\"relu\")(Z)\n",
    "    Z = keras.layers.Dense(EMBED_SIZE_ISO)(Z)\n",
    "    Z = keras.layers.LayerNormalization()(keras.layers.Add()([Z, skip]))"
   ]
  },
  {
   "cell_type": "code",
   "execution_count": 72,
   "metadata": {},
   "outputs": [
    {
     "name": "stdout",
     "output_type": "stream",
     "text": [
      "Epoch 1/10\n",
      "\u001b[1m250/250\u001b[0m \u001b[32m━━━━━━━━━━━━━━━━━━━━\u001b[0m\u001b[37m\u001b[0m \u001b[1m55s\u001b[0m 152ms/step - accuracy: 0.5177 - loss: 2.4261 - val_accuracy: 0.2500 - val_loss: 3.8918\n",
      "Epoch 2/10\n",
      "\u001b[1m250/250\u001b[0m \u001b[32m━━━━━━━━━━━━━━━━━━━━\u001b[0m\u001b[37m\u001b[0m \u001b[1m45s\u001b[0m 180ms/step - accuracy: 0.2491 - loss: 3.8385 - val_accuracy: 0.2500 - val_loss: 3.8662\n",
      "Epoch 3/10\n",
      "\u001b[1m250/250\u001b[0m \u001b[32m━━━━━━━━━━━━━━━━━━━━\u001b[0m\u001b[37m\u001b[0m \u001b[1m40s\u001b[0m 159ms/step - accuracy: 0.2549 - loss: 3.6834 - val_accuracy: 0.2780 - val_loss: 2.7200\n",
      "Epoch 4/10\n",
      "\u001b[1m250/250\u001b[0m \u001b[32m━━━━━━━━━━━━━━━━━━━━\u001b[0m\u001b[37m\u001b[0m \u001b[1m42s\u001b[0m 169ms/step - accuracy: 0.2820 - loss: 2.7142 - val_accuracy: 0.2862 - val_loss: 2.6814\n",
      "Epoch 5/10\n",
      "\u001b[1m250/250\u001b[0m \u001b[32m━━━━━━━━━━━━━━━━━━━━\u001b[0m\u001b[37m\u001b[0m \u001b[1m47s\u001b[0m 188ms/step - accuracy: 0.3852 - loss: 2.5324 - val_accuracy: 0.2517 - val_loss: 3.5280\n",
      "Epoch 6/10\n",
      "\u001b[1m250/250\u001b[0m \u001b[32m━━━━━━━━━━━━━━━━━━━━\u001b[0m\u001b[37m\u001b[0m \u001b[1m43s\u001b[0m 172ms/step - accuracy: 0.2838 - loss: 3.2719 - val_accuracy: 0.7275 - val_loss: 1.3694\n",
      "Epoch 7/10\n",
      "\u001b[1m250/250\u001b[0m \u001b[32m━━━━━━━━━━━━━━━━━━━━\u001b[0m\u001b[37m\u001b[0m \u001b[1m44s\u001b[0m 176ms/step - accuracy: 0.7495 - loss: 1.2485 - val_accuracy: 0.8035 - val_loss: 0.8667\n",
      "Epoch 8/10\n",
      "\u001b[1m250/250\u001b[0m \u001b[32m━━━━━━━━━━━━━━━━━━━━\u001b[0m\u001b[37m\u001b[0m \u001b[1m41s\u001b[0m 164ms/step - accuracy: 0.8318 - loss: 0.6998 - val_accuracy: 0.9883 - val_loss: 0.1869\n",
      "Epoch 9/10\n",
      "\u001b[1m250/250\u001b[0m \u001b[32m━━━━━━━━━━━━━━━━━━━━\u001b[0m\u001b[37m\u001b[0m \u001b[1m41s\u001b[0m 164ms/step - accuracy: 0.9532 - loss: 0.2989 - val_accuracy: 1.0000 - val_loss: 0.0379\n",
      "Epoch 10/10\n",
      "\u001b[1m250/250\u001b[0m \u001b[32m━━━━━━━━━━━━━━━━━━━━\u001b[0m\u001b[37m\u001b[0m \u001b[1m43s\u001b[0m 170ms/step - accuracy: 0.9991 - loss: 0.0403 - val_accuracy: 1.0000 - val_loss: 0.0206\n"
     ]
    },
    {
     "data": {
      "text/plain": [
       "<keras.src.callbacks.history.History at 0x7f379019b110>"
      ]
     },
     "execution_count": 72,
     "metadata": {},
     "output_type": "execute_result"
    }
   ],
   "source": [
    "Y_proba = keras.layers.Dense(VOCAB_SIZE_ISO, activation=\"softmax\")(Z)\n",
    "model = keras.Model(inputs=[encoder_inputs, decoder_inputs],\n",
    "                       outputs=[Y_proba])\n",
    "model.compile(loss=\"sparse_categorical_crossentropy\", optimizer=\"nadam\",\n",
    "              metrics=[\"accuracy\"])\n",
    "model.fit((X_train, X_train_dec), y_train_dec, epochs=10,\n",
    "          validation_data=((X_valid, X_valid_dec), y_valid_dec))"
   ]
  },
  {
   "cell_type": "code",
   "execution_count": 74,
   "metadata": {},
   "outputs": [
    {
     "name": "stdout",
     "output_type": "stream",
     "text": [
      "\u001b[1m32/32\u001b[0m \u001b[32m━━━━━━━━━━━━━━━━━━━━\u001b[0m\u001b[37m\u001b[0m \u001b[1m3s\u001b[0m 26ms/step - accuracy: 1.0000 - loss: 0.0202\n"
     ]
    },
    {
     "data": {
      "text/plain": [
       "[0.020069990307092667, 1.0]"
      ]
     },
     "execution_count": 74,
     "metadata": {},
     "output_type": "execute_result"
    }
   ],
   "source": [
    "model.evaluate((X_test, X_test_dec), y_test_dec)"
   ]
  },
  {
   "cell_type": "code",
   "execution_count": 75,
   "metadata": {},
   "outputs": [
    {
     "name": "stdout",
     "output_type": "stream",
     "text": [
      "\u001b[1m1/1\u001b[0m \u001b[32m━━━━━━━━━━━━━━━━━━━━\u001b[0m\u001b[37m\u001b[0m \u001b[1m2s\u001b[0m 2s/step\n",
      "2019\n",
      "\u001b[1m1/1\u001b[0m \u001b[32m━━━━━━━━━━━━━━━━━━━━\u001b[0m\u001b[37m\u001b[0m \u001b[1m0s\u001b[0m 59ms/step\n",
      "04\n",
      "\u001b[1m1/1\u001b[0m \u001b[32m━━━━━━━━━━━━━━━━━━━━\u001b[0m\u001b[37m\u001b[0m \u001b[1m0s\u001b[0m 48ms/step\n",
      "22\n"
     ]
    }
   ],
   "source": [
    "result = convert_encoder_decoder(\"April 22, 2019\")\n",
    "assert result == \"2019-04-22\""
   ]
  }
 ],
 "metadata": {
  "kernelspec": {
   "display_name": "base",
   "language": "python",
   "name": "python3"
  },
  "language_info": {
   "codemirror_mode": {
    "name": "ipython",
    "version": 3
   },
   "file_extension": ".py",
   "mimetype": "text/x-python",
   "name": "python",
   "nbconvert_exporter": "python",
   "pygments_lexer": "ipython3",
   "version": "3.12.2"
  }
 },
 "nbformat": 4,
 "nbformat_minor": 2
}
