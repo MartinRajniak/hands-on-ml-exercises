{
 "cells": [
  {
   "cell_type": "markdown",
   "id": "b8ebf1e1",
   "metadata": {},
   "source": [
    "# 11. Train on Google Vertex AI\n",
    "\n",
    "_Exercise: Train a small model on Google Vertex AI, using TensorFlow Cloud Tuner for hyperparameter tuning._"
   ]
  },
  {
   "cell_type": "markdown",
   "id": "e08b399c",
   "metadata": {},
   "source": []
  }
 ],
 "metadata": {
  "language_info": {
   "name": "python"
  }
 },
 "nbformat": 4,
 "nbformat_minor": 5
}
