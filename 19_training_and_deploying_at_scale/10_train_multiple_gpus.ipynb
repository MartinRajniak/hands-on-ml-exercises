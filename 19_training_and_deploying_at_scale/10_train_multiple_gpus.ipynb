{
 "cells": [
  {
   "cell_type": "markdown",
   "id": "1b2b5c94",
   "metadata": {},
   "source": [
    "# 10. Train model using multiple GPUs\n",
    "\n",
    "_Exercise: Train any model across multiple GPUs on the same machine using the `MirroredStrategy` (if you do not have access to GPUs, you can use Colaboratory with a GPU Runtime and create two virtual GPUs). Train the model again using the `CentralStorageStrategy `and compare the training time._"
   ]
  },
  {
   "cell_type": "markdown",
   "id": "4e5a2dc2",
   "metadata": {},
   "source": []
  }
 ],
 "metadata": {
  "language_info": {
   "name": "python"
  }
 },
 "nbformat": 4,
 "nbformat_minor": 5
}
