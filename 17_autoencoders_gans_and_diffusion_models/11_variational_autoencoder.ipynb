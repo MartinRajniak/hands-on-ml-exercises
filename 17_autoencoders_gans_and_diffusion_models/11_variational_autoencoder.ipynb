{
 "cells": [
  {
   "cell_type": "markdown",
   "metadata": {},
   "source": [
    "# 11. Variational Auto-Encoder\n",
    "\n",
    "_Exercise: Train a variational autoencoder on the image dataset of your choice, and use it to generate images. Alternatively, you can try to find an unlabeled dataset that you are interested in and see if you can generate new samples._"
   ]
  },
  {
   "cell_type": "markdown",
   "metadata": {},
   "source": [
    "## Prepare environment"
   ]
  },
  {
   "cell_type": "code",
   "execution_count": 221,
   "metadata": {},
   "outputs": [],
   "source": [
    "import os\n",
    "\n",
    "os.environ[\"KERAS_BACKEND\"] = \"tensorflow\"\n",
    "\n",
    "import tensorflow_datasets as tfds\n",
    "\n",
    "import numpy as np\n",
    "\n",
    "from keras import layers\n",
    "import keras\n",
    "\n",
    "import tensorflow as tf\n",
    "\n",
    "import matplotlib.pyplot as plt\n",
    "\n",
    "from sklearn.cluster import KMeans\n",
    "from sklearn.metrics import adjusted_rand_score"
   ]
  },
  {
   "cell_type": "code",
   "execution_count": 249,
   "metadata": {},
   "outputs": [],
   "source": [
    "# Parameters\n",
    "BATCH_SIZE = 128\n",
    "INPUT_SHAPE = (28, 28, 1)\n",
    "LATENT_DIM = 16\n",
    "EPOCHS = 10 # 100"
   ]
  },
  {
   "cell_type": "markdown",
   "metadata": {},
   "source": [
    "## Prepare dataset"
   ]
  },
  {
   "cell_type": "code",
   "execution_count": 223,
   "metadata": {},
   "outputs": [],
   "source": [
    "ds, info = tfds.load(\n",
    "    \"mnist\",\n",
    "    split=[\"train\", \"test\"],\n",
    "    with_info=True,\n",
    "    shuffle_files=True\n",
    ")"
   ]
  },
  {
   "cell_type": "code",
   "execution_count": 224,
   "metadata": {},
   "outputs": [
    {
     "name": "stdout",
     "output_type": "stream",
     "text": [
      "tfds.core.DatasetInfo(\n",
      "    name='mnist',\n",
      "    full_name='mnist/3.0.1',\n",
      "    description=\"\"\"\n",
      "    The MNIST database of handwritten digits.\n",
      "    \"\"\",\n",
      "    homepage='http://yann.lecun.com/exdb/mnist/',\n",
      "    data_path='/home/martin/tensorflow_datasets/mnist/3.0.1',\n",
      "    file_format=tfrecord,\n",
      "    download_size=11.06 MiB,\n",
      "    dataset_size=21.00 MiB,\n",
      "    features=FeaturesDict({\n",
      "        'image': Image(shape=(28, 28, 1), dtype=uint8),\n",
      "        'label': ClassLabel(shape=(), dtype=int64, num_classes=10),\n",
      "    }),\n",
      "    supervised_keys=('image', 'label'),\n",
      "    disable_shuffling=False,\n",
      "    splits={\n",
      "        'test': <SplitInfo num_examples=10000, num_shards=1>,\n",
      "        'train': <SplitInfo num_examples=60000, num_shards=1>,\n",
      "    },\n",
      "    citation=\"\"\"@article{lecun2010mnist,\n",
      "      title={MNIST handwritten digit database},\n",
      "      author={LeCun, Yann and Cortes, Corinna and Burges, CJ},\n",
      "      journal={ATT Labs [Online]. Available: http://yann.lecun.com/exdb/mnist},\n",
      "      volume={2},\n",
      "      year={2010}\n",
      "    }\"\"\",\n",
      ")\n"
     ]
    }
   ],
   "source": [
    "print(info)"
   ]
  },
  {
   "cell_type": "code",
   "execution_count": 225,
   "metadata": {},
   "outputs": [
    {
     "name": "stdout",
     "output_type": "stream",
     "text": [
      "60000\n",
      "10000\n"
     ]
    }
   ],
   "source": [
    "ds_train, ds_test = ds\n",
    "print(len(list(ds_train)))\n",
    "print(len(list(ds_test)))"
   ]
  },
  {
   "cell_type": "code",
   "execution_count": 226,
   "metadata": {},
   "outputs": [
    {
     "name": "stdout",
     "output_type": "stream",
     "text": [
      "(28, 28, 1)\n"
     ]
    }
   ],
   "source": [
    "for example in ds_train.take(1):\n",
    "    image = example[\"image\"]\n",
    "    print(image.shape)\n"
   ]
  },
  {
   "cell_type": "code",
   "execution_count": 227,
   "metadata": {},
   "outputs": [
    {
     "data": {
      "image/png": "[encoded data removed]",
      "text/plain": [
       "<Figure size 800x800 with 9 Axes>"
      ]
     },
     "metadata": {},
     "output_type": "display_data"
    }
   ],
   "source": [
    "plt.figure(1, figsize=(8,8))\n",
    "for pos, example in enumerate(ds_train.take(9)):\n",
    "    plt.subplot(3, 3, pos + 1)\n",
    "    image = example[\"image\"]\n",
    "    plt.imshow(image)\n",
    "plt.show()"
   ]
  },
  {
   "cell_type": "code",
   "execution_count": 228,
   "metadata": {},
   "outputs": [],
   "source": [
    "AUTO = tf.data.AUTOTUNE\n",
    "\n",
    "def scale(image):\n",
    "    image = tf.image.convert_image_dtype(image, tf.float32)\n",
    "    return image\n",
    "\n",
    "ds_train = (\n",
    "    ds_train.shuffle(1024)\n",
    "    .map(lambda X: X[\"image\"])\n",
    "    .map(scale, num_parallel_calls=AUTO)\n",
    "    .batch(BATCH_SIZE)\n",
    "    .prefetch(AUTO)\n",
    ")\n",
    "\n",
    "ds_test = (\n",
    "    ds_test\n",
    "    .map(lambda X: X[\"image\"])\n",
    "    .map(scale, num_parallel_calls=AUTO)\n",
    "    .batch(BATCH_SIZE)\n",
    "    .prefetch(AUTO)\n",
    ")"
   ]
  },
  {
   "cell_type": "markdown",
   "metadata": {},
   "source": [
    "### Train Variational Auto-Encoder and Generate new images"
   ]
  },
  {
   "cell_type": "code",
   "execution_count": 250,
   "metadata": {},
   "outputs": [],
   "source": [
    "class BeanVAE(keras.Model):\n",
    "    def __init__(self, latent_dim):\n",
    "        super(BeanVAE, self).__init__()\n",
    "        self.latent_dim = latent_dim\n",
    "\n",
    "        # Encoder\n",
    "        self.encoder = keras.Sequential([\n",
    "            layers.Input(shape=INPUT_SHAPE),\n",
    "            layers.Conv2D(32, 3, activation='relu', strides=2, padding='same'),\n",
    "            layers.Conv2D(64, 3, activation='relu', strides=2, padding='same'),\n",
    "            layers.Flatten(),\n",
    "            layers.Dense(16, activation='relu'),\n",
    "        ])\n",
    "\n",
    "        # Mean and variance layers\n",
    "        self.dense_mean = layers.Dense(latent_dim, name='mean')\n",
    "        self.dense_log_var = layers.Dense(latent_dim, name='log_var')\n",
    "\n",
    "        # Decoder\n",
    "        self.decoder = keras.Sequential([\n",
    "            layers.Input(shape=(latent_dim,)),\n",
    "            layers.Dense(7 * 7 * 64, activation='relu'),\n",
    "            layers.Reshape((7, 7, 64)),\n",
    "            layers.Conv2DTranspose(64, 3, activation='relu', strides=2, padding='same'),\n",
    "            layers.Conv2DTranspose(32, 3, activation='relu', strides=2, padding='same'),\n",
    "            layers.Conv2DTranspose(1, 3, activation='sigmoid', padding='same')\n",
    "        ])\n",
    "\n",
    "    def encode(self, x):\n",
    "        x = self.encoder(x)\n",
    "        mean = self.dense_mean(x)\n",
    "        log_var = self.dense_log_var(x)\n",
    "        return mean, log_var\n",
    "\n",
    "    def reparameterize(self, mean, log_var):\n",
    "        batch = tf.shape(mean)[0]\n",
    "        dim = tf.shape(mean)[1]\n",
    "        epsilon = tf.keras.backend.random_normal(shape=(batch, dim))\n",
    "        return mean + tf.exp(0.5 * log_var) * epsilon\n",
    "\n",
    "    def decode(self, z):\n",
    "        return self.decoder(z)\n",
    "\n",
    "    def call(self, inputs):\n",
    "        mean, log_var = self.encode(inputs)\n",
    "        z = self.reparameterize(mean, log_var)\n",
    "        reconstructed = self.decode(z)\n",
    "        return reconstructed, mean, log_var\n",
    "\n",
    "    def sample(self, n_samples):\n",
    "        z = tf.random.normal(shape=(n_samples, self.latent_dim))\n",
    "        return self.decode(z)"
   ]
  },
  {
   "cell_type": "code",
   "execution_count": 251,
   "metadata": {},
   "outputs": [],
   "source": [
    "def vae_loss_function(inputs, outputs, mean, log_var):\n",
    "    # Reconstruction loss\n",
    "    reconstruction_loss = tf.reduce_mean(\n",
    "        keras.losses.binary_crossentropy(inputs, outputs) * INPUT_SHAPE[0] * INPUT_SHAPE[1] * INPUT_SHAPE[2]\n",
    "    )\n",
    "\n",
    "    # KL divergence\n",
    "    kl_loss = -0.5 * tf.reduce_mean(1 + log_var - tf.square(mean) - tf.exp(log_var))\n",
    "\n",
    "    return reconstruction_loss + kl_loss"
   ]
  },
  {
   "cell_type": "code",
   "execution_count": 252,
   "metadata": {},
   "outputs": [],
   "source": [
    "@tf.function\n",
    "def train_step(model, optimizer, x):\n",
    "    with tf.GradientTape() as tape:\n",
    "        # Forward pass\n",
    "        reconstructed, mean, log_var = model(x)\n",
    "\n",
    "        # Compute loss\n",
    "        loss = vae_loss_function(x, reconstructed, mean, log_var)\n",
    "\n",
    "    # Compute gradients\n",
    "    gradients = tape.gradient(loss, model.trainable_variables)\n",
    "\n",
    "    # Apply gradients\n",
    "    optimizer.apply_gradients(zip(gradients, model.trainable_variables))\n",
    "\n",
    "    return loss"
   ]
  },
  {
   "cell_type": "code",
   "execution_count": 253,
   "metadata": {},
   "outputs": [],
   "source": [
    "def visualize_reconstructions(model, images, epoch):\n",
    "    n = 10\n",
    "    plt.figure(figsize=(20, 4))\n",
    "\n",
    "    for i in range(n):\n",
    "        # Display original\n",
    "        ax = plt.subplot(2, n, i + 1)\n",
    "        plt.imshow(images[i])\n",
    "        plt.title(\"Original\")\n",
    "        plt.axis(\"off\")\n",
    "\n",
    "        # Display reconstruction\n",
    "        img = np.expand_dims(images[i], axis=0)\n",
    "        reconstruction, _, _ = model(img)\n",
    "        reconstruction = reconstruction.numpy()[0]\n",
    "\n",
    "        ax = plt.subplot(2, n, i + 1 + n)\n",
    "        plt.imshow(reconstruction)\n",
    "        plt.title(\"Reconstructed\")\n",
    "        plt.axis(\"off\")\n",
    "\n",
    "    plt.savefig(f\"reconstructions_epoch_{epoch+1}.png\")\n",
    "    plt.close()"
   ]
  },
  {
   "cell_type": "code",
   "execution_count": 254,
   "metadata": {},
   "outputs": [],
   "source": [
    "def visualize_generated_samples(model, n_samples, epoch):\n",
    "    generated_images = model.sample(n_samples).numpy()\n",
    "\n",
    "    plt.figure(figsize=(20, 4))\n",
    "    for i in range(n_samples):\n",
    "        plt.subplot(1, n_samples, i+1)\n",
    "        plt.imshow(generated_images[i])\n",
    "        plt.axis('off')\n",
    "        plt.title(\"Generated\")\n",
    "\n",
    "    plt.savefig(f\"generated_samples_epoch_{epoch+1}.png\")\n",
    "    plt.close()"
   ]
  },
  {
   "cell_type": "code",
   "execution_count": 255,
   "metadata": {},
   "outputs": [],
   "source": [
    "def train_vae(train_dataset, val_dataset, model_save_path=\"bean_vae_model.weights.h5\"):\n",
    "    # Create model and optimizer\n",
    "    model = BeanVAE(LATENT_DIM)\n",
    "    optimizer = keras.optimizers.Adam(learning_rate=1e-2)\n",
    "\n",
    "    # Training loop\n",
    "    print(\"Starting training...\")\n",
    "    loss_history = []\n",
    "    val_loss_history = []\n",
    "\n",
    "    for epoch in range(EPOCHS):\n",
    "        # Training\n",
    "        epoch_loss = 0\n",
    "        num_batches = 0\n",
    "\n",
    "        for batch in train_dataset:\n",
    "            loss = train_step(model, optimizer, batch)\n",
    "            epoch_loss += loss\n",
    "            num_batches += 1\n",
    "\n",
    "        epoch_loss /= num_batches\n",
    "        loss_history.append(epoch_loss)\n",
    "\n",
    "        # Validation\n",
    "        val_epoch_loss = 0\n",
    "        val_num_batches = 0\n",
    "\n",
    "        for val_batch in val_dataset:\n",
    "            val_reconstructed, val_mean, val_log_var = model(val_batch)\n",
    "            val_loss = vae_loss_function(val_batch, val_reconstructed, val_mean, val_log_var)\n",
    "            val_epoch_loss += val_loss\n",
    "            val_num_batches += 1\n",
    "\n",
    "        val_epoch_loss /= val_num_batches\n",
    "        val_loss_history.append(val_epoch_loss)\n",
    "\n",
    "        print(f\"Epoch {epoch+1}/{EPOCHS}, Loss: {epoch_loss:.4f}, Val Loss: {val_epoch_loss:.4f}\")\n",
    "\n",
    "        # Generate and save some example reconstructions\n",
    "        if (epoch + 1) % 5 == 0 or epoch == 0:\n",
    "            visualize_reconstructions(model, list(tfds.as_numpy(ds_test.take(1)))[0][:10], epoch)\n",
    "            visualize_generated_samples(model, 10, epoch)\n",
    "\n",
    "    # Save the model\n",
    "    model.save_weights(model_save_path)\n",
    "\n",
    "    # Plot loss curves\n",
    "    plt.figure(figsize=(10, 5))\n",
    "    plt.plot(loss_history, label='Training Loss')\n",
    "    plt.plot(val_loss_history, label='Validation Loss')\n",
    "    plt.xlabel('Epochs')\n",
    "    plt.ylabel('Loss')\n",
    "    plt.title('VAE Training and Validation Loss')\n",
    "    plt.legend()\n",
    "    plt.savefig('vae_loss_curves.png')\n",
    "    plt.close()\n",
    "\n",
    "    return model, loss_history, val_loss_history"
   ]
  },
  {
   "cell_type": "code",
   "execution_count": 256,
   "metadata": {},
   "outputs": [
    {
     "name": "stdout",
     "output_type": "stream",
     "text": [
      "Starting training...\n",
      "Epoch 1/10, Loss: 166.8753, Val Loss: 131.7078\n",
      "Epoch 2/10, Loss: 126.2995, Val Loss: 121.4307\n",
      "Epoch 3/10, Loss: 120.1992, Val Loss: 117.7700\n",
      "Epoch 4/10, Loss: 117.3259, Val Loss: 117.1346\n",
      "Epoch 5/10, Loss: 115.9898, Val Loss: 114.5607\n",
      "Epoch 6/10, Loss: 114.8273, Val Loss: 115.0268\n",
      "Epoch 7/10, Loss: 114.1221, Val Loss: 113.3066\n",
      "Epoch 8/10, Loss: 113.2266, Val Loss: 112.8565\n",
      "Epoch 9/10, Loss: 112.8396, Val Loss: 112.2832\n",
      "Epoch 10/10, Loss: 112.2985, Val Loss: 112.6450\n"
     ]
    }
   ],
   "source": [
    "model, loss_history, val_loss_history = train_vae(ds_train, ds_test)"
   ]
  },
  {
   "cell_type": "code",
   "execution_count": 257,
   "metadata": {},
   "outputs": [],
   "source": [
    "(x_train, y_train), (x_test, y_test) = keras.datasets.mnist.load_data()\n",
    "x_train = np.expand_dims(x_train, -1).astype(\"float32\") / 255\n",
    "x_test = np.expand_dims(x_test, -1).astype(\"float32\") / 255\n",
    "\n",
    "encoded_imgs = model.encoder(x_test)"
   ]
  },
  {
   "cell_type": "code",
   "execution_count": 258,
   "metadata": {},
   "outputs": [
    {
     "name": "stdout",
     "output_type": "stream",
     "text": [
      "Adjusted Rand Index (ARI): 0.4921399002535537\n"
     ]
    }
   ],
   "source": [
    "# 3. Perform clustering on the latent space\n",
    "n_clusters = len(np.unique(y_test))  # Assuming the number of clusters equals the number of classes\n",
    "kmeans = KMeans(n_clusters=n_clusters, random_state=42, n_init=10)\n",
    "cluster_labels = kmeans.fit_predict(encoded_imgs)\n",
    "\n",
    "# 4. Compute the ARI\n",
    "ari_score = adjusted_rand_score(y_test, cluster_labels)\n",
    "print(f\"Adjusted Rand Index (ARI): {ari_score}\")"
   ]
  }
 ],
 "metadata": {
  "kernelspec": {
   "display_name": "base",
   "language": "python",
   "name": "python3"
  },
  "language_info": {
   "codemirror_mode": {
    "name": "ipython",
    "version": 3
   },
   "file_extension": ".py",
   "mimetype": "text/x-python",
   "name": "python",
   "nbconvert_exporter": "python",
   "pygments_lexer": "ipython3",
   "version": "3.12.2"
  }
 },
 "nbformat": 4,
 "nbformat_minor": 2
}
